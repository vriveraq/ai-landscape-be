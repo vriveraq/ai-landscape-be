{
 "cells": [
  {
   "cell_type": "markdown",
   "id": "13343387",
   "metadata": {},
   "source": [
    "# Belgian AI Landscape\n",
    "\n",
    "## Part 1: Scraping and storing data\n",
    "\n",
    "### 1. Import Modules"
   ]
  },
  {
   "cell_type": "code",
   "execution_count": 6,
   "id": "99ec2bb4",
   "metadata": {},
   "outputs": [],
   "source": [
    "import numpy as np\n",
    "import pandas as pd\n",
    "import time\n",
    "from scrapeData import getData, createDriver, getAddress\n",
    "from concurrent.futures import ThreadPoolExecutor"
   ]
  },
  {
   "cell_type": "markdown",
   "id": "25472cdc",
   "metadata": {},
   "source": [
    "### 2. Scrape company information from AI4Belgium"
   ]
  },
  {
   "cell_type": "code",
   "execution_count": null,
   "id": "c6bc8eaa",
   "metadata": {},
   "outputs": [],
   "source": [
    "# Create a DataFrame from the AI4Belgium website and save as a DataFrame\n",
    "ai_df = getData('https://www.ai4belgium.be/ai-landscape/')"
   ]
  },
  {
   "cell_type": "markdown",
   "id": "70ed42b8",
   "metadata": {},
   "source": [
    "### 3. Search for the company name in Google search and Maps to obtain addresses\n",
    "\n",
    "    Note: Here we use threading to speed-up our code."
   ]
  },
  {
   "cell_type": "code",
   "execution_count": 10,
   "id": "e2560b38",
   "metadata": {},
   "outputs": [
    {
     "name": "stdout",
     "output_type": "stream",
     "text": [
      "38.36 seconds\n"
     ]
    }
   ],
   "source": [
    "start_time = time.process_time() \n",
    "\n",
    "#Build as many drivers as there are threads, so each thread gets own driver\n",
    "with ThreadPoolExecutor(max_workers=10) as executor:\n",
    "     result= [executor.submit(getAddress, name) for name in ai_df['Company Name']]\n",
    "\n",
    "print(round(time.process_time() - start_time,2), \"seconds\" ) \n",
    "\n",
    "# Save addresses in a list using list-comprehension\n",
    "addresses =  [item.result()[0] for item in result]\n",
    "\n",
    "# Add the addresses as a new column in the DataFrame\n",
    "ai_df['Address']  = addresses\n",
    "\n",
    "# Save DataFrame as a CSV file\n",
    "ai_df.to_csv('../data/AILandscape_from_script.csv', index = False)"
   ]
  },
  {
   "cell_type": "markdown",
   "id": "fe5d302d",
   "metadata": {},
   "source": [
    "### 4. Check for Missing Values\n",
    "\n",
    "    Currently, our script scrappes 312 addresses out of 437 (i.e. 125 missing). "
   ]
  },
  {
   "cell_type": "code",
   "execution_count": 18,
   "id": "ac3becb0",
   "metadata": {},
   "outputs": [
    {
     "data": {
      "text/plain": [
       "125"
      ]
     },
     "execution_count": 18,
     "metadata": {},
     "output_type": "execute_result"
    }
   ],
   "source": [
    "(ai_df['Address']=='').sum()"
   ]
  },
  {
   "cell_type": "markdown",
   "id": "615552ee",
   "metadata": {},
   "source": [
    "### 5. Next Steps\n",
    "\n",
    "1. Automate filling in missing values. Idea: Check other websites for scraping.\n",
    "2. Visualize gathered data in a map.\n",
    "3. Create Streamlit App and deploy."
   ]
  },
  {
   "cell_type": "markdown",
   "id": "6a5e4e3d",
   "metadata": {},
   "source": [
    "To address the missing values, we opted to manually input the missing addresses while working on automating this process.\n",
    "\n",
    "To get our data ready for our app, we wanted to preprocess the addresses to also extract the zipcode and city as separate columns for further filtering.\n",
    "\n",
    "## Part II: Cleaning "
   ]
  },
  {
   "cell_type": "code",
   "execution_count": 6,
   "id": "a45f0fff",
   "metadata": {},
   "outputs": [
    {
     "data": {
      "text/html": [
       "<div>\n",
       "<style scoped>\n",
       "    .dataframe tbody tr th:only-of-type {\n",
       "        vertical-align: middle;\n",
       "    }\n",
       "\n",
       "    .dataframe tbody tr th {\n",
       "        vertical-align: top;\n",
       "    }\n",
       "\n",
       "    .dataframe thead th {\n",
       "        text-align: right;\n",
       "    }\n",
       "</style>\n",
       "<table border=\"1\" class=\"dataframe\">\n",
       "  <thead>\n",
       "    <tr style=\"text-align: right;\">\n",
       "      <th></th>\n",
       "      <th>Company Name</th>\n",
       "      <th>Link</th>\n",
       "      <th>Region</th>\n",
       "      <th>Address</th>\n",
       "    </tr>\n",
       "  </thead>\n",
       "  <tbody>\n",
       "    <tr>\n",
       "      <th>0</th>\n",
       "      <td>AE Projects</td>\n",
       "      <td>https://www.ae.be/en/</td>\n",
       "      <td>Flanders</td>\n",
       "      <td>Interleuvenlaan 27/B, 3001 Leuven</td>\n",
       "    </tr>\n",
       "    <tr>\n",
       "      <th>1</th>\n",
       "      <td>Agilytic</td>\n",
       "      <td>http://www.agilytic.be</td>\n",
       "      <td>Wallonia</td>\n",
       "      <td>Rue F. Dubois 2, 1310 La Hulpe</td>\n",
       "    </tr>\n",
       "    <tr>\n",
       "      <th>2</th>\n",
       "      <td>Aptus</td>\n",
       "      <td>https://www.aptus.be/#</td>\n",
       "      <td>Flanders</td>\n",
       "      <td>Meensesteenweg 449, 8501 Kortrijk</td>\n",
       "    </tr>\n",
       "    <tr>\n",
       "      <th>3</th>\n",
       "      <td>Arinti</td>\n",
       "      <td>https://arinti.ai/</td>\n",
       "      <td>Flanders</td>\n",
       "      <td>Duigemhofstraat 101, 3020 Herent</td>\n",
       "    </tr>\n",
       "    <tr>\n",
       "      <th>4</th>\n",
       "      <td>Around Media</td>\n",
       "      <td>https://www.around.media/</td>\n",
       "      <td>Flanders</td>\n",
       "      <td>Kortrijksesteenweg 1127/0002, 9051, 9000 Gent</td>\n",
       "    </tr>\n",
       "  </tbody>\n",
       "</table>\n",
       "</div>"
      ],
      "text/plain": [
       "   Company Name                       Link    Region  \\\n",
       "0   AE Projects      https://www.ae.be/en/  Flanders   \n",
       "1      Agilytic     http://www.agilytic.be  Wallonia   \n",
       "2         Aptus     https://www.aptus.be/#  Flanders   \n",
       "3        Arinti         https://arinti.ai/  Flanders   \n",
       "4  Around Media  https://www.around.media/  Flanders   \n",
       "\n",
       "                                         Address  \n",
       "0              Interleuvenlaan 27/B, 3001 Leuven  \n",
       "1                 Rue F. Dubois 2, 1310 La Hulpe  \n",
       "2              Meensesteenweg 449, 8501 Kortrijk  \n",
       "3               Duigemhofstraat 101, 3020 Herent  \n",
       "4  Kortrijksesteenweg 1127/0002, 9051, 9000 Gent  "
      ]
     },
     "execution_count": 6,
     "metadata": {},
     "output_type": "execute_result"
    }
   ],
   "source": [
    "ai_df_complete = pd.read_csv('../data/AI_Landscape_BE_completed.csv')\n",
    "ai_df_complete.head()"
   ]
  },
  {
   "cell_type": "markdown",
   "id": "383ca57f",
   "metadata": {},
   "source": [
    "We note that for most addresses the format is similar, we will use this to our advantage."
   ]
  },
  {
   "cell_type": "code",
   "execution_count": 7,
   "id": "ac3233eb",
   "metadata": {},
   "outputs": [],
   "source": [
    "ai_df_complete[['Street','Location']] = ai_df_complete['Address'].str.split(\",\", n=1, expand=True)\n",
    "\n",
    "# Remove leading and trailing whitespaces\n",
    "ai_df_complete['Street'] = ai_df_complete['Street'].apply(lambda x: str(x).strip())\n",
    "ai_df_complete['Location'] = ai_df_complete['Location'].apply(lambda x: str(x).strip())\n",
    "\n",
    "ai_df_complete[['ZipCode','City']] = ai_df_complete['Location'].str.split(\" \", n=1, expand=True)"
   ]
  },
  {
   "cell_type": "markdown",
   "id": "530197cc",
   "metadata": {},
   "source": [
    "We drop the missing values since these companies do not have an active website and their information is outdated. This is about 9 companies in total."
   ]
  },
  {
   "cell_type": "code",
   "execution_count": 8,
   "id": "e7e50f2c",
   "metadata": {},
   "outputs": [],
   "source": [
    "ai_df_complete.dropna(inplace=True)"
   ]
  },
  {
   "cell_type": "code",
   "execution_count": 9,
   "id": "72cd0e36",
   "metadata": {},
   "outputs": [],
   "source": [
    "# We add the country to the address in preparation for our visualization\n",
    "ai_df_complete['Address'] = ai_df_complete['Address'].apply(lambda x: x + ', Belgium')"
   ]
  },
  {
   "cell_type": "markdown",
   "id": "de2759b9",
   "metadata": {},
   "source": [
    "Finally, we saved our new DataFrame as a csv file."
   ]
  },
  {
   "cell_type": "code",
   "execution_count": 10,
   "id": "52d3d6bd",
   "metadata": {},
   "outputs": [],
   "source": [
    "ai_df_complete.to_csv('../data/AILandscape_cleaned.csv', index = False)"
   ]
  },
  {
   "cell_type": "markdown",
   "id": "6eff58a6",
   "metadata": {},
   "source": [
    "## Part III: Visualizing Data in a Map."
   ]
  },
  {
   "cell_type": "code",
   "execution_count": 11,
   "id": "93f6edad",
   "metadata": {},
   "outputs": [
    {
     "name": "stdout",
     "output_type": "stream",
     "text": [
      "Missing Coordinates: 75\n"
     ]
    }
   ],
   "source": [
    "import geopy\n",
    "import pandas as pd\n",
    "# OpenStreetMap API\n",
    "from geopy.geocoders import Nominatim\n",
    "geolocator = Nominatim(user_agent=\"http\")\n",
    "\n",
    "ai_df_complete['gcode'] = ai_df_complete['Address'].apply(geolocator.geocode)\n",
    "print('Missing Coordinates: ' + str(ai_df_complete['gcode'].isna().sum()))"
   ]
  },
  {
   "cell_type": "code",
   "execution_count": 12,
   "id": "ee45936a",
   "metadata": {},
   "outputs": [],
   "source": [
    "# Drop Missing Values\n",
    "ai_df_complete['gcode'].dropna(inplace = True)"
   ]
  },
  {
   "cell_type": "code",
   "execution_count": 14,
   "id": "44878ec2",
   "metadata": {},
   "outputs": [],
   "source": [
    "import numpy as np\n",
    "ai_df_complete['Latitude'] = [g.latitude if g is not None else np.nan for g in ai_df_complete.gcode ]\n",
    "ai_df_complete['Longitude'] = [g.longitude if g is not None else np.nan for g in ai_df_complete.gcode]"
   ]
  },
  {
   "cell_type": "code",
   "execution_count": 15,
   "id": "1de7c22e",
   "metadata": {},
   "outputs": [],
   "source": [
    "ai_df_complete.to_csv('../data/AILandscape_geocoded.csv', index = False)"
   ]
  },
  {
   "cell_type": "code",
   "execution_count": 16,
   "id": "99f7eff9",
   "metadata": {},
   "outputs": [
    {
     "data": {
      "application/vnd.plotly.v1+json": {
       "config": {
        "plotlyServerURL": "https://plot.ly"
       },
       "data": [
        {
         "customdata": [
          [
           "AE Projects",
           "https://www.ae.be/en/",
           "Interleuvenlaan 27/B, 3001 Leuven, Belgium"
          ],
          [
           "Aptus",
           "https://www.aptus.be/#",
           "Meensesteenweg 449, 8501 Kortrijk, Belgium"
          ],
          [
           "Arinti",
           "https://arinti.ai/",
           "Duigemhofstraat 101, 3020 Herent, Belgium"
          ],
          [
           "Around Media",
           "https://www.around.media/",
           "Kortrijksesteenweg 1127/0002, 9051, 9000 Gent, Belgium"
          ],
          [
           "Blendr.io",
           "https://www.blendr.io/",
           "Grauwpoort 1, 9000 Gent, Belgium"
          ],
          [
           "Boltzmann",
           "http://www.boltzmann.be",
           "Gaston Crommenlaan 12, 9031 Gent, Belgium"
          ],
          [
           "Brainjar",
           "http://www.brainjar.ai",
           "Gaston Geenslaan 11, 3001 Leuven, Belgium"
          ],
          [
           "Calculus",
           "https://www.calculus.group/?lang=fr",
           "Kempenseweg 12, 3690 Zutendaal, Belgium"
          ],
          [
           "Creax",
           "https://creax.com/",
           "Walle 113G, 8500 Kortrijk, Belgium"
          ],
          [
           "CrossLang",
           "http://www.crosslang.com/en",
           "Kerkstraat 106, 9050 Gent, Belgium"
          ],
          [
           "Data Minded",
           "http://www.dataminded.be",
           "Vismarkt 17, 3000 Leuven, Belgium"
          ],
          [
           "Dataroots",
           "http://dataroots.io",
           "Tiensevest 132, 3000 Leuven, Belgium"
          ],
          [
           "Datastories",
           "http://datastories.com",
           "Antoine Coppenslaan 27/bus 11, 2300 Turnhout, Belgium"
          ],
          [
           "Faktion",
           "https://www.faktion.com/",
           "Oudeleeuwenrui 39, 2000 Antwerpen, Belgium"
          ],
          [
           "Humain.AI",
           "http://humain.ai",
           "Gaston Crommelaan 8, 9050 Gent, Belgium"
          ],
          [
           "In The Pocket",
           "http://inthepocket.com",
           "Sassevaartstraat 46/401, 9000 Gent, Belgium"
          ],
          [
           "Invenira",
           "http://www.invenira.com",
           "Professor Roger Van Overstraetenplein 5, 3000 Leuven, Belgium"
          ],
          [
           "Ixor",
           "https://ixor.be/",
           "Schuttersvest 75, 2800 Mechelen, Belgium"
          ],
          [
           "Klarrio",
           "https://klarrio.com/",
           "Plantin en Moretuslei 1A, 2018 Antwerpen, Belgium"
          ],
          [
           "ML6",
           "http://ml6.eu",
           "Esplanade Oscar Van De Voorde 1, 9000 Gent, Belgium"
          ],
          [
           "Mobius Design Thinking",
           "https://www.mobius.eu/en/",
           "Kortrijksesteenweg 152, 9830 Sint-Martens-Latem, Belgium"
          ],
          [
           "N-side",
           "http://www.n-side.com",
           "Av. Baudouin 1er 25, 1348 Ottignies-Louvain-la-Neuve, Belgium"
          ],
          [
           "Omina Tech.",
           "http://www.omina.be",
           "Mechelsesteenweg 19, 2018 Antwerpen, Belgium"
          ],
          [
           "Onebonsai",
           "https://onebonsai.com/fr/",
           "Luchthavenlaan 4, 1800 Vilvoorde, Belgium"
          ],
          [
           "Pegus Digital",
           "https://pegus.digital/",
           "Noordlaan 18, 8520 Kuurne, Belgium"
          ],
          [
           "Room40",
           "http://roomfourzero.com",
           "Quai sur Meuse 19, 4000 Liège, Belgium"
          ],
          [
           "Savaco",
           "http://www.savaco.com/",
           "Beneluxpark 19, 8500 Kortrijk, Belgium"
          ],
          [
           "Sentiance",
           "https://www.sentiance.com",
           "Korte Lozanastraat 20, 2018 Antwerpen, Belgium"
          ],
          [
           "Tengu",
           "https://www.tengu.io/",
           "Dendermondsesteenweg 50, 9000 Gent, Belgium"
          ],
          [
           "Trendskout",
           "http://www.trendskout.com",
           "Ottergemsesteenweg Zuid 808, 9000 Gent, Belgium"
          ],
          [
           "Tropos",
           "http://www.tropos.io",
           "Mechelsesteenweg 271, 2018 Antwerpen, Belgium"
          ],
          [
           "VECTR Consulting",
           "https://Vectr.Consulting",
           "De Villermontlaan 9, 2550 Kontich, Belgium"
          ],
          [
           "VersaSense",
           "http://www.versasense.com",
           "Kapeldreef 60, 3001 Leuven, Belgium"
          ],
          [
           "Waylay",
           "http://www.waylay.io",
           "Blekersdijk 33a, 9000 Gent, Belgium"
          ],
          [
           "Artiq",
           "http://www.artiq.eu",
           "Professor Roger Van Overstraetenplein 5, 3000 Leuven, Belgium"
          ],
          [
           "Aspect Analytics",
           "http://www.aspect-analytics.com",
           "C-Mine 12, 3600 Genk, Belgium"
          ],
          [
           "Asylia Diagnostics",
           "https://www.asyliadx.com/",
           "Turnhoutseweg 30, 2340 Beerse, Belgium"
          ],
          [
           "Aurelis",
           "https://aurelis.org/",
           "Oude Godstraat 200, 2650 Edegem, Belgium"
          ],
          [
           "Avalasia",
           "http://www.avalasia.com",
           "Bruggestraat 112, 8930 Menen, Belgium"
          ],
          [
           "Bartanel",
           "http://bartanel.com",
           "Turnhoutsebaan 139, 2140 Antwerpen, Belgium"
          ],
          [
           "Bingli",
           "http://www.mybingli.com",
           "Lange Gasthuisstraat 29/12, 2000 Antwerpen, Belgium"
          ],
          [
           "BioClue",
           "http://www.bioclue.eu",
           "Fabriekstraat 7, 3930 Hamont, Belgium"
          ],
          [
           "BioLizard",
           "https://lizard.bio/",
           "Martelaarslaan 408, 9000 Ghent, Belgium"
          ],
          [
           "BioStrand",
           "https://www.biostrand.be/",
           "Agoralaan Abis, 3590 Diepenbeek, Belgium"
          ],
          [
           "Creative Therapy",
           "https://www.mycreativetherapy.com/#pll_switcher",
           "Derbystraat, 9051 Gent, Belgium"
          ],
          [
           "DEO",
           "https://deo.care/",
           "Da Vincilaan 1, 1930 Zaventem, Belgium"
          ],
          [
           "Ectosense",
           "https://www.ectosense.com/",
           "De Hoorn Sluisstraat 79/00.01, 3000 Leuven, Belgium"
          ],
          [
           "emma.health",
           "http://emma.health",
           "Ottergemsesteenweg Zuid 808C/bus 12, 9000 Gent, Belgium"
          ],
          [
           "Epcon",
           "http://www.epcon.ai",
           "Sint-Pietersvliet 7, 2000 Antwerpen, Belgium"
          ],
          [
           "Epihunter",
           "https://www.epihunter.com/",
           "Corda Campus Kempische Steenweg 303/200, 3500 Hasselt, Belgium"
          ],
          [
           "Epilog",
           "http://www.epilog.care",
           "Vlasgaardstraat 52, 9000 Gent, Belgium"
          ],
          [
           "FluidDA",
           "https://www.fluidda.com/",
           "Groeningenlei 132, 2550 Kontich, Belgium"
          ],
          [
           "Genae",
           "https://www.genae.com/",
           "Justitiestraat 6, 2018 Antwerpen, Belgium"
          ],
          [
           "Hippocreates",
           "http://www.hippocreates.be/",
           "Ter Heidelaan 95A, 3200 Aarschot, Belgium"
          ],
          [
           "icoMetrix",
           "http://www.icometrix.com",
           "Kolonel Begaultlaan 1b, 3012 Leuven, Belgium"
          ],
          [
           "Lindacare",
           "https://lindacare.com/",
           "Grauwmeer 1/41, 3001 Leuven, Belgium"
          ],
          [
           "Lopos",
           "https://www.lopos.be/",
           "Ottergemsesteenweg Zuid 808, 9000 Gent, Belgium"
          ],
          [
           "Lynxcare",
           "http://lynxcare.be",
           "Tiensevest 132, 3000 Leuven, Belgium"
          ],
          [
           "Medical Robots",
           "http://www.medical-robots.be",
           "De Rondom 18, 5612 AP Eindhoven, Nederland, Belgium"
          ],
          [
           "Minze health",
           "https://minzehealth.com/",
           "Offerandestraat 1, 2060 Antwerpen, Belgium"
          ],
          [
           "Molecubes",
           "http://molecubes.com",
           "Ottergemsesteenweg Zuid 808 bus 325, 9000 Gent, Belgium"
          ],
          [
           "Mona",
           "https://mona.health/",
           "Business Brewery N.V. Interleuvenlaan 62, 3001 Leuven, Belgium"
          ],
          [
           "Mynutia",
           "http://www.mynutia.com",
           "Celestijnenlaan 300, 3001 Leuven, Belgium"
          ],
          [
           "Nischala Tech.",
           "https://www.nischalatech.com/",
           "Wilrijk, 2610 Antwerp, Belgium"
          ],
          [
           "Ontoforce",
           "http://www.ontoforce.com",
           "Moutstraat 108, 9000 Gent, Belgium"
          ],
          [
           "Partheas",
           "https://partheas.com/",
           "Sint Jorisstraat 17A, 9300 Aalst, Belgium"
          ],
          [
           "ProteoFormiX",
           "https://www.proteoformix.com/",
           "Janssen Pharmaceutica Campus Turnhoutseweg 30, 2340 Beerse, Belgium"
          ],
          [
           "Qaelum",
           "https://qaelum.com/",
           "Gaston Geenslaan 9, 3001 Leuven, Belgium"
          ],
          [
           "Qompium",
           "https://www.fibricheck.com/",
           "Corda Campus Kempische Steenweg 303/27, 3500 Hasselt, Belgium"
          ],
          [
           "QuantaCorp",
           "http://www.QuantaCorp.io",
           "Amelia Earhartlaan 17, 9051 Gent, Belgium"
          ],
          [
           "Relu",
           "http://relu.eu",
           "Kapeldreef 60, 3001 Leuven, Belgium"
          ],
          [
           "Rombit",
           "http://rombit.com",
           "Meir 30, 2000 Antwerpen, Belgium"
          ],
          [
           "Sneezz",
           "https://sneezz.be/",
           "Kroonstraat 31, 3840 Limburg, Belgium"
          ],
          [
           "Spectricity",
           "http://spectricity.com",
           "Stationsstraat 55, 2800 Mechelen, Belgium"
          ],
          [
           "Strong Supplies",
           "http://strong.supplies",
           "Waalkens 11C, 9000 Gent, Belgium"
          ],
          [
           "Vitamin.ai",
           "https://vitamin-ai.com",
           "Frans De Cortlaan 3 bus 1, 2610 Antwerp, Belgium"
          ],
          [
           "Yoboo",
           "https://www.yoboo.health/nl/home",
           "Quellinstraat 12/6, 2800 Antwerpen, Belgium"
          ],
          [
           "Alberts",
           "http://alberts.be",
           "Bijkhoevelaan 32c, 2110 Wijnegem, Belgium"
          ],
          [
           "Amigrow",
           "https://amigrowfarming.com/",
           "Penrhyn-coch, Aberystwyth SY23 3EE, Verenigd Koninkrijk, Belgium"
          ],
          [
           "Ask Attis",
           "http://www.askattis.com",
           "Beersebaan 76, 2310 Rijkevorsel, Belgium"
          ],
          [
           "Building IQ",
           "https://www.b-iq.be/nl",
           "Oostlaan 5, 8560 Gullegem, Belgium"
          ],
          [
           "byNubian",
           "https://www.bynubian.com/fr/",
           "Coupure Rechts 64D, 9000 Gent, Belgium"
          ],
          [
           "Enervalis",
           "http://www.enervalis.com",
           "Lummense Kiezel 51, 3510 Hasselt, Belgium"
          ],
          [
           "Ethernetics",
           "http://ethernetics.tech",
           "Antwerpse Steenweg 19, 9080 Lochristi, Belgium"
          ],
          [
           "Foodpairing",
           "https://www.foodpairing.com/fr/home",
           "Ottergemsesteenweg Zuid 808, 9000 Gent, Belgium"
          ],
          [
           "Hyler",
           "http://www.hyler.be/",
           "Vijvedreef 54, 8710 Wielsbeke, Belgium"
          ],
          [
           "IPBuilding",
           "https://www.ipbuilding.be/",
           "Ninovesteenweg 196, 9320 Aalst, Belgium"
          ],
          [
           "LAMMP",
           "https://lammp.be/",
           "Mechelsesteenweg 271/bus 2.1, 2018 Antwerpen, Belgium"
          ],
          [
           "SoundTalks",
           "http://www.soundtalks.be",
           "Interleuvenlaan 15 C, 3001 Leuven, Belgium"
          ],
          [
           "Strategic Water",
           "http://strategicwater.be",
           "Gaston Crommenlaan 8, 9050 Gent, Belgium"
          ],
          [
           "Sumaqua",
           "http://www.sumaqua.be",
           "Sluisstraat 79 b3.01, 3000 Leuven, Belgium"
          ],
          [
           "The Kobi Company",
           "http://thekobi.com",
           "Ambachtenlaan 7C, 3001 Leuven, Belgium"
          ],
          [
           "Toadi",
           "http://www.toadi.com",
           "Eugène Bekaertlaan 61, 8790 Waregem, Belgium"
          ],
          [
           "Automated Analytics",
           "http://automatedanalytics.eu",
           "Frans de Cortlaan 3/bus 1, 2610 Antwerpen, Belgium"
          ],
          [
           "CashForce",
           "http://www.discover-edge.com",
           "Diamantstraat, 2018 Antwerpen, Belgium"
          ],
          [
           "Complidata",
           "http://complidata.io",
           "Oppemstraat 13, 3080 Tervuren, Belgium"
          ],
          [
           "Contract.fit",
           "http://contract.fit",
           "Rue des Poissonniers 13, 1000 Brussels, Belgium"
          ],
          [
           "DeJuristen",
           "https://dejuristen.be/?lang=fr",
           "Heernislaan 19, 9000 Gent, Belgium"
          ],
          [
           "Docbyte",
           "https://www.docbyte.com/",
           "Kortrijksesteenweg 1144B, 9051 Gent, Belgium"
          ],
          [
           "Infinity Mobile",
           "http://infinity-mobile.io",
           "Hoogstraat 29, 9850 Deinze, Belgium"
          ],
          [
           "InvestSuite",
           "http://www.investsuite.eu",
           "Sluisstraat 79, 3000 Leuven, Belgium"
          ],
          [
           "NGData",
           "http://www.lilyproject.org",
           "Sluisweg 2 bus 10, 9000 Gent, Belgium"
          ],
          [
           "RiskConcile",
           "http://www.riskconcile.com",
           "Kapeldreef 60, 3001 Leuven, Belgium"
          ],
          [
           "WeGroup",
           "http://www.wegroup.be",
           "Moutstraat 68, 9000 Gent, Belgium"
          ],
          [
           "ammco",
           "https://ammco.be/en/",
           "Aarschotsesteenweg 147, 3111 Rotselaar, Belgium"
          ],
          [
           "CitizenLab",
           "http://citizenlab.co",
           "Pachecolaan 34, 1000 Brussel, Belgium"
          ],
          [
           "Comproved",
           "https://comproved.com/",
           "Boshovestraat 100, 2100 Antwerpen, Belgium"
          ],
          [
           "Datacamp",
           "http://www.datamind.org",
           "Martelarenlaan 38, 3010 Leuven, Belgium"
          ],
          [
           "Dwengo",
           "https://dwengo.org/",
           "Marcel Thirylaan 194, 1200 Brussels, Belgium"
          ],
          [
           "Knowliah",
           "http://www.knowliah.com/",
           "Leuvensesteenweg 282, 3190 Boortmeerbeek, Belgium"
          ],
          [
           "OPSORO",
           "http://www.opsoro.be",
           "De Krook Platteberg 11, 9000 Gent, Belgium"
          ],
          [
           "Scriptbook",
           "http://scriptbook.io",
           "Gasstraat  37/8, 9160 Lokeren, Belgium"
          ],
          [
           "Aloxy",
           "https://www.aloxy.io/",
           "Sint-Pietersvliet 7, 2000 Antwerpen, Belgium"
          ],
          [
           "Arkite",
           "https://arkite.com/",
           "C-Mine 12, 3600 Genk, Belgium"
          ],
          [
           "Azumuta",
           "https://www.azumuta.com/",
           "Technologiepark-Zwijnaarde 122, 9052 Gent, Belgium"
          ],
          [
           "Deltaray",
           "https://deltaray.eu/",
           "Schaliënhoefdreef 20T, 2970 Antwerpen, Belgium"
          ],
          [
           "Diabatix",
           "http://diabatix.com",
           "Technologielaan 11, 3001 Leuven, Belgium"
          ],
          [
           "epic blue",
           "http://www.epic.blue",
           "Asstraat 5, 3000 Leuven, Belgium"
          ],
          [
           "Flexible Robotic Solutions",
           "http://www.frsrobotics.com",
           "Kapeldreef 60, 3001 Leuven, Belgium"
          ],
          [
           "Inimco",
           "https://inimco.com/",
           "Frankrijkstraat 11/k5, 9140 Temse, Belgium"
          ],
          [
           "Iqunet",
           "http://iqunet.com",
           "Broekstraat 82, 9220 Hamme, Belgium"
          ],
          [
           "Magics Instruments",
           "http://www.magics.tech",
           "Cipalstraat 3, 2440 Geel, Belgium"
          ],
          [
           "Movanis",
           "http://www.movanis.be/",
           "Movanis, Mijnwerkerslaan 14, 3550 Heusden-Zolder, Belgium"
          ],
          [
           "Pick-it",
           "http://www.pickit3d.com",
           "Gaston Geenslaan 9, 3001 Oud-Heverlee, Belgium"
          ],
          [
           "Sitemark",
           "https://www.sitemark.com",
           "Gaston Geenslaan 9, 3001 Leuven, Belgium"
          ],
          [
           "Solvice",
           "http://www.solvice.io",
           "Vlasgaardstraat 52, 9000 Gent, Belgium"
          ],
          [
           "The Grain",
           "https://www.thegrain.pro/",
           "Sint-Pietersvliet 7, 2000 Antwerpen, Belgium"
          ],
          [
           "Tractonomy",
           "http://www.tractonomy.com",
           "Nelson Mandelaplein 2, 8500 Kortrijk, Belgium"
          ],
          [
           "Trendminer",
           "https://www.trendminer.com",
           "Kempische Steenweg 309/5, 3500 Hasselt, Belgium"
          ],
          [
           "Tusk IC",
           "http://www.tusk-ic.com",
           "Cuperusstraat 5, 2018 Antwerpen, Belgium"
          ],
          [
           "Yazzoom",
           "http://www.yazzoom.com",
           "Derbystraat 65/building A, 9051 Gent, Belgium"
          ],
          [
           "Airshaper",
           "http://www.airshaper.com",
           "Kreeftstraat 20, 2018 Antwerp, Belgium"
          ],
          [
           "Conundra",
           "http://www.conundra.eu",
           "Voordries 41, 9860 Oosterzele, Belgium"
          ],
          [
           "Dropon",
           "http://dropon.io",
           "Oktrooiplein 1/bus 201, 9000 Gent, Belgium"
          ],
          [
           "Ivex",
           "http://www.ivex.ai",
           "Kapeldreef 60, 3001 Leuven, Belgium"
          ],
          [
           "Mabo E&A",
           "http://www.agv-automation.com",
           "Mallekotstraat 43a, 2500 Lier, Belgium"
          ],
          [
           "Motulus",
           "https://motulus.com/",
           "Antwerpse Steenweg 61, 2660 Antwerpen, Belgium"
          ],
          [
           "Movetex",
           "http://movetex.be",
           "Provincieweg 405, 9550 Herzele, Belgium"
          ],
          [
           "OTIV",
           "http://www.otiv.ai",
           "Vijfwindgatenstraat 21 E, 9000 Gent, Belgium"
          ],
          [
           "SEAFAR",
           "http://www.seafar.eu",
           "Sint-Pietersvliet 7, 2000 Antwerpen, Belgium"
          ],
          [
           "Westray",
           "http://www.westray.eu",
           "Lange Lobroekstraat 41-45, 2060 Antwerp, Belgium"
          ],
          [
           "XenomatiX",
           "http://www.xenomatix.com",
           "Research Park Haasrode Romeinse straat 6, 3001 Leuven, Belgium"
          ],
          [
           "Calltic",
           "http://www.calltic.com",
           "Vijfwindgatenstraat 21, 9000 Gent, Belgium"
          ],
          [
           "Retailsonar",
           "http://retailsonar.com",
           "Ferdinand Lousbergskaai 103, 9000 Gent, Belgium"
          ],
          [
           "Shavatar",
           "http://www.shavatar.me",
           "Eerste Meistraat 75, 2845 Niel, Belgium"
          ],
          [
           "The retail factory",
           "https://theretailfactory.be",
           "Meir 78, 2000 Antwerpen\n , Belgium"
          ],
          [
           "Araani",
           "http://www.araani.com",
           "Luipaardstraat 12, 8500 Kortrijk, Belgium"
          ],
          [
           "EyeSee",
           "http://www.eyesee.be",
           "Franklin Rooseveltlaan 349, 9000 Gent, Belgium"
          ],
          [
           "Fielddrive",
           "http://www.fielddrive.eu",
           "Mechelsesteenweg 303, 2830 Willebroek, Belgium"
          ],
          [
           "Humainly",
           "http://webmonks.vision",
           "311 p.o. 1.02 Kempische Steenweg, 3500 Hasselt, Belgium"
          ],
          [
           "Limecraft",
           "https://www.limecraft.com/",
           "Sint-Salvatorstraat 18b/301, 9000 Gent, Belgium"
          ],
          [
           "Macty",
           "http://macty.eu",
           "Prof. R. Van Overstraetenplein 2, 3000 Leuven, Belgium"
          ],
          [
           "PixelVision",
           "http://www.pixelvision.be",
           "Kempische Steenweg 303/b23, 3500 Hasselt, Belgium"
          ],
          [
           "Robovision",
           "http://www.robovision.ai",
           "Technologiepark-Zwijnaarde 80, 9052 Gent, Belgium"
          ],
          [
           "SeeMe",
           "http://seeme.ai",
           "Leschot 28, 2440 Geel, Belgium"
          ],
          [
           "Segments.ai",
           "http://segments.ai",
           "Professor Roger Van Overstraetenplein 5, 3000 Leuven, Belgium"
          ],
          [
           "3State",
           "https://3state.eu/",
           "Kanunnik de Deckerstraat 20a, 2800 Mechelen, Belgium"
          ],
          [
           "Airobot",
           "https://airobot.eu/",
           "1090, Lichtenberglaan, 3800 Sint-Truiden, Belgium"
          ],
          [
           "ALX systems",
           "http://www.alxsys.com",
           "Rue de la Résistance 26, 4681 Oupeye, Belgium"
          ],
          [
           "CrowdScan",
           "http://www.crowdscan.be/",
           "Sint-Pietersvliet 7, 2000 Antwerpen, Belgium"
          ],
          [
           "Dronematrix",
           "https://www.dronematrix.eu/",
           "Herkenrodesingel 4 / 1, 3500 Hasselt, Belgium"
          ],
          [
           "EASICS",
           "https://www.easics.com/",
           "Diestsevest 32/2B, 3000 Leuven, Belgium"
          ],
          [
           "Edgise",
           "http://www.edgise.com",
           "Gaston Geenslaan 11/B4, 3001 Leuven, Belgium"
          ],
          [
           "Geckomatics",
           "http://www.geckomatics.com",
           "Borsbeeksebrug 34, 2600 Antwerpen-Berchem, Belgium"
          ],
          [
           "Intermodalics",
           "https://www.intermodalics.eu/",
           "Gaston Geenslaan 9, 3001 Leuven, Belgium"
          ],
          [
           "IOOS",
           "http://www.ioos.be",
           "Donklaan 182, 9290 Berlare, Belgium"
          ],
          [
           "March",
           "http://www.letsmarch.be",
           "Luxemburgstraat 16B, 1000 Brussels , Belgium"
          ],
          [
           "SpacePal",
           "http://spacepal.eu",
           "Bijkhoevelaan 32c, 2110 Wijnegem, Belgium"
          ],
          [
           "Bothive",
           "http://bothive.be",
           "Coupure Rechts 620, 9000 Gent, Belgium"
          ],
          [
           "Chatlayer",
           "https://chatlayer.ai/",
           "Ankerrui 9, 2000 Antwerpen, Belgium"
          ],
          [
           "Clever",
           "http://clever.be",
           "Foreestelaan 1, Ghent 9000, Belgium"
          ],
          [
           "Craftworkz",
           "https://www.craftworkz.co/",
           "Gaston Geenslaan 11, 3001 Leuven, Belgium"
          ],
          [
           "Lawren.io",
           "http://lawren.io",
           "Sint-Pietersvliet 7, 2000 Antwerpen, Belgium"
          ],
          [
           "LiNGUiNEO",
           "http://www.linguineo.com",
           "Schipvaartstraat 24 / 407, 3000 Leuven, Belgium"
          ],
          [
           "OSWALD",
           "https://www.oswald.ai/",
           "Veldkant 33 A, 2550 Kontich, Belgium"
          ],
          [
           "Avantopy",
           "http://avantopy.com",
           "Albert Stainierstraat 4, 3001 Leuven, Belgium"
          ],
          [
           "Iris",
           "https://irisprosolutions.com/",
           "Rue du Bosquet 10, 1348 Louvain-la-Neuve, Belgium"
          ],
          [
           "NLP Town",
           "https://www.nlp.town/",
           "Lange Lostraat 11, 3212 Lubbeek, Belgium"
          ],
          [
           "Say It Labs",
           "http://www.sayitlabs.com",
           "Domeinstraat 58, 3010 Leuven, Belgium"
          ],
          [
           "SmartSpoken",
           "http://www.thecofoundry.co/investments-1/2016/12/29/smartspoken",
           "Lange Gasthuisstraat 29, 2000 Antwerpen, Belgium"
          ],
          [
           "Textgain",
           "http://www.textgain.com",
           "Lodewijk van Berckenlaan 180/2, 2140 Antwerpen, Belgium"
          ],
          [
           "ThinkNext",
           "http://www.thinknext.be",
           "Minderbroedersstraat 17/2, 3000 Leuven, Belgium"
          ],
          [
           "Winston Analytics",
           "http://www.winston-analytics.com",
           "Holstraat 44, 9000 Gent, Belgium"
          ],
          [
           "Crodeon Tech.",
           "https://www.crodeon.com/",
           "Technologiepark-Zwijnaarde 82, 9052 Gent, Belgium"
          ],
          [
           "EMDYN",
           "https://www.emdyn.com/",
           "Gaston Crommenlaan 8, 9050 Gent, Belgium"
          ],
          [
           "Engine27",
           "http://www.engine27.be",
           "Generaal Armstrongweg 1, 2020 Antwerpen, Belgium"
          ],
          [
           "Entelec Control Systems",
           "https://www.entelec.eu/",
           "Wetenschapspark 25, 3590 Diepenbeek, Belgium"
          ],
          [
           "IP Metro",
           "https://ipmetro.com/",
           "Kerselaarstraat 28, 9820 Merelbeke, Belgium"
          ],
          [
           "Kerberos",
           "http://kerberos.io",
           "Tiensesteenweg 170, 3001 Leuven, Belgium"
          ],
          [
           "Mauhn",
           "http://mauhn.com",
           "Désiré Toeffaertstraat 34, 9050 Gent, Belgium"
          ],
          [
           "Phished",
           "http://phished.be",
           "138, Bondgenotenlaan, 3000 Leuven, Belgium"
          ],
          [
           "Roborana",
           "http://roborana.be",
           "Veldkant 33b, 2550 Kontich, Belgium"
          ],
          [
           "Senhive",
           "http://senhive.com",
           "Lichtenberglaan 1090, 3800 Sint-Truiden, Belgium"
          ],
          [
           "sweepatic",
           "http:// https://www.sweepatic.com",
           "Kapeldreef 60, 3001 Leuven, Belgium"
          ],
          [
           "Actonomy",
           "https://www.googleadservices.com/pagead/aclk?sa=L&ai=DChcSEwihua69rO7tAhWChtUKHb8DDx8YABAAGgJ3cw&ohost=www.google.com&cid=CAESQOD2wAaMm978LFJgSpSJVPPCWzil5ja8i25J7R6DaC48uyp9q5QQJf2MrcJeabi9ovIl7ijunPuaL4-fv_I2TsE&sig=AOD64_3nnSJs5bnAPLHiU0joRkn0cFavTA&q&adurl&ved=2ahUKEwj06qe9rO7tAhUN8BoKHZlFALkQ0Qx6BAgFEAE",
           "Xavier de Cocklaan 68, 9831 Sint-Martens-Latem, Belgium"
          ],
          [
           "Allthingsblue",
           "http://allthingsblue.eu",
           "Josse Biesmanstraat 60, 1560 Hoeilaart, Belgium"
          ],
          [
           "AlterEdu",
           "http://www.alteredu.be",
           "Kantersteen 10, 1000 Brussel, Belgium"
          ],
          [
           "BeWorkHappy",
           "http://www.beworkhappy.be",
           "Otto Veniusstraat 9, 2000 Antwerpen , Belgium"
          ],
          [
           "Conversation Starter",
           "https://www.conversationstarter.net/",
           "Borsbeeksebrug 34, 2600 Antwerp, Belgium"
          ],
          [
           "EngineerX",
           "http://www.engineerx.com",
           "Belgicastraat 5/bus 2, 1930 Zaventem, Belgium"
          ],
          [
           "ImplicitMeasures",
           "https://implicitmeasures.com/",
           "Technologiepark 82, 9052 Gent, Belgium"
          ],
          [
           "JiGSO",
           "http://jigso.com",
           "Antwerpse Steenweg 61, 2660 Antwerpen, Belgium"
          ],
          [
           "Karamel.one",
           "https://karamel.one/",
           "Edward Pynaertkaai 93, 9000 Gent, Belgium"
          ],
          [
           "Sympl",
           "https://sympl.be/",
           "Rijnkaai 37/bus 4, 2000 Antwerpen, Belgium"
          ],
          [
           "Techwolf",
           "http://www.techwolf.be",
           "Overzet 14b, 9000 Gent, Belgium"
          ],
          [
           "theMatchbox",
           "http://thematchbox.be",
           "Corluylei 43, 2150 Borsbeek, Belgium"
          ],
          [
           "Traicie",
           "http://traicie.com",
           "Deinsesteenweg 114, 9031 Gent, Belgium"
          ],
          [
           "Adunio",
           "http://www.adun.io",
           "Luchthavenlaan 27 / 56, 1800 Vilvoorde, Belgium"
          ],
          [
           "BossData",
           "https://bossdata.be/contact/",
           "Broederminstraat 9, 2018 Antwerpen, Belgium"
          ],
          [
           "Co-libry",
           "https://co-libry.com/",
           "Antoinette Vandeputtepad 25, 9000 Gent, Belgium"
          ],
          [
           "Cropland",
           "http://www.cropland.be",
           "Willem Van Laarstraat 86 bus 02, 2600 Antwerpen, Belgium"
          ],
          [
           "Hello Customer",
           "https://www.hellocustomer.com/en/",
           "Zuiderpoort Gaston Crommenlaan 14/C1.1, 9000 Gent, Belgium"
          ],
          [
           "Hive CPQ",
           "http://www.hivecpq.com",
           "Kleindokkaai 17, 9000 Gent, Belgium"
          ],
          [
           "Marketing & more",
           "https://www.marketingandmore.be/",
           "Veldkant 33, 2250 Kontich, Belgium"
          ],
          [
           "ML2Grow",
           "http://www.ml2grow.com",
           "Reigerstraat 8, 9000 Gent, Belgium"
          ],
          [
           "Predicube",
           "http://www.predicube.com",
           "Grotesteenweg 43, 2600 Antwerpen, Belgium"
          ],
          [
           "Salesflare",
           "https://salesflare.com/",
           "Rijnkaai 37 box 4, 2000 Antwerp, Belgium"
          ],
          [
           "Showpad",
           "http://www.showpad.com",
           "Moutstraat 62, 9000 Gent, Belgium"
          ],
          [
           "Sparkcentral",
           "http://www.twitspark.com",
           "Kempische steenweg 311, 3500 Hasselt, Belgium"
          ],
          [
           "Spott",
           "http://www.appiness.mobi",
           "Groeneweg 17, 9320 Aalst, Belgium"
          ],
          [
           "Taglayer",
           "http://www.taglayer.com",
           "Oude Koornmarkt 28/Floor 2, 2000 Antwerpen, Belgium"
          ],
          [
           "Trackuity",
           "http://www.trackuity.com",
           "Ridderstraat 15, 9000 Gent, Belgium"
          ],
          [
           "Willow",
           "http://www.contento.us",
           "Hüttenweg 4, 97877 Wertheim, Duitsland, Belgium"
          ],
          [
           "Alexandria.works",
           "https://alexandria.works/findr/",
           "Sint-Pietersvliet 7, 2000 Antwerpen, Belgium"
          ],
          [
           "Amethix",
           "http://amethix.com",
           "10 Cantersteen, 1000 Brussels, Belgium"
          ],
          [
           "Crunch Analytics",
           "https://www.crunchanalytics.be/",
           "Rodelijvekensstraat 28/bus 002, 9000 Gent, Belgium"
          ],
          [
           "Datascouts",
           "https://datascouts.eu/",
           "Wiedauwkaai 23, 9000 Gent, Belgium"
          ],
          [
           "Dice",
           "https://www.dice-cro.com/",
           "Het Hofveld 6F, 1702 Groot-Bijgaarden, Belgium"
          ],
          [
           "i.Deeds",
           "https://www.ideeds.be/en",
           "Molenstraat 72, 8790 Waregem, Belgium"
          ],
          [
           "Infofarm",
           "https://infofarm.be/",
           "Prins Boudewijnlaan 24E, 2550 Kontich, Belgium"
          ],
          [
           "Klassif.ai",
           "http://www.klassif.ai",
           "Gaston Geenslaan 11, 3001 Leuven, Belgium"
          ],
          [
           "Marple",
           "https://getmarple.io/",
           "355 Adelaide St W Suite 100, Toronto, ON M5V 1S2, Canada, Belgium"
          ],
          [
           "Metamaze",
           "https://metamaze.eu/",
           "Oudeleeuwenrui 39, 2000 Antwerpen, Belgium"
          ],
          [
           "Open Analytics",
           "http://www.openanalytics.eu",
           "Jupiterstraat 20, 2600 Antwerpen, Belgium"
          ],
          [
           "Robonext",
           "http://www.robonext.eu",
           "Vestinglaan 55, 2650 Edegem, Belgium"
          ],
          [
           "Solventure Life",
           "http://www.solventuregroup.com",
           "Blue Tower 1 Sluisweg 1 Bus 18, 9000 Gent, Belgium"
          ],
          [
           "UgenTec",
           "http://ugentec.com",
           "Bedrijventerrein Hasselt Kiewit Kempische Steenweg 303, 3500 Hasselt, Belgium"
          ],
          [
           "Uman.ai",
           "http://uman.ai",
           "Esplanade Oscar Van De Voorde 1, 9000 Gent, Belgium"
          ]
         ],
         "hovertemplate": "Name: %{customdata[0]}<br>Website: %{customdata[1]}<br>Address: %{customdata[2]}",
         "lat": [
          50.8502022,
          50.8240296,
          50.9053488,
          51.0230642,
          51.05982315,
          51.0367565,
          50.8646606,
          50.9418005,
          50.8102084,
          51.044752,
          50.8818656,
          50.8763425,
          null,
          51.22757795,
          null,
          51.06731095,
          50.8780717,
          51.0208146,
          51.2105728,
          51.0373891,
          51.00863485,
          null,
          51.2102236,
          50.9251543,
          50.8633024,
          50.6419769,
          50.79842485,
          51.19655365,
          51.0553048,
          51.01607545,
          51.1999153,
          null,
          50.862076650000006,
          51.0591035,
          50.8780717,
          50.9827078,
          51.3113239,
          51.1656943,
          50.79950555,
          51.215311,
          51.2160317,
          null,
          51.0487522,
          null,
          51.0235699,
          null,
          null,
          null,
          51.225451,
          null,
          51.056625,
          51.14347735,
          51.20958715,
          50.99130455,
          50.9021393,
          50.8471472,
          51.01607545,
          50.8763425,
          null,
          51.21969155,
          null,
          null,
          50.8634702,
          51.1700864,
          51.03035925,
          50.9373511,
          null,
          50.8664798,
          null,
          51.03080695,
          50.862076650000006,
          51.2179261,
          50.8025693,
          51.0166339,
          51.0888611,
          51.1776453,
          51.215092,
          51.2309852,
          null,
          51.33861585,
          50.8542805,
          51.0535731,
          50.9530048,
          51.0923688,
          51.01607545,
          50.92480365,
          50.91564155,
          null,
          50.84755195,
          51.0369658,
          null,
          50.8489688,
          50.86813935000001,
          51.1776453,
          51.2050466,
          50.82527595,
          50.849272,
          51.0505956,
          51.019668,
          51.0279919,
          50.8871553,
          null,
          50.862076650000006,
          51.0300861,
          50.94662095,
          50.851676350000005,
          51.22282065,
          50.8811918,
          50.8569963,
          50.971139750000006,
          null,
          51.105927,
          51.225451,
          50.9827078,
          51.0132839,
          51.2311194,
          50.8534246,
          50.888399,
          50.862076650000006,
          51.1406559,
          51.08919285,
          51.1520883,
          null,
          null,
          50.8664798,
          51.056625,
          51.225451,
          50.825725,
          50.9400226,
          51.2053374,
          null,
          51.20745805,
          50.9512527,
          null,
          50.862076650000006,
          51.1464223,
          51.17822795,
          50.8996069,
          51.04443595,
          51.225451,
          51.2316645,
          null,
          51.04443595,
          51.0463685,
          51.11455345,
          51.2171618,
          50.82415465,
          51.0444494,
          51.0488422,
          null,
          51.0667766,
          null,
          null,
          51.00882845,
          51.1668554,
          50.8780717,
          51.0316681,
          50.7955931,
          50.712962,
          51.225451,
          50.9370206,
          50.8833902,
          50.8664798,
          51.2000649,
          50.8664798,
          51.04952575,
          50.8403481,
          51.2309852,
          51.0544524,
          51.2274108,
          51.0300169,
          50.8646606,
          51.225451,
          50.8864918,
          51.1424488,
          50.87102405,
          50.6598141,
          50.884181,
          50.89930375,
          51.2146082,
          51.1975746,
          50.8773834,
          51.0536853,
          51.0081162,
          51.0369658,
          51.194782450000005,
          50.9298835,
          50.9887065,
          50.871825320000006,
          51.04051755,
          50.88073445,
          51.14231695,
          50.7955931,
          50.862076650000006,
          51.0021716,
          null,
          50.8457606,
          51.217809,
          51.2000649,
          null,
          51.0081162,
          51.17822795,
          51.0399503,
          null,
          51.0522245,
          51.187763450000006,
          51.039400650000005,
          50.9264625,
          51.2031568,
          51.067881,
          null,
          null,
          51.0595664,
          51.1424488,
          51.0342511,
          51.1885188,
          null,
          51.0300861,
          50.9519039,
          50.9164326,
          null,
          51.0548393,
          null,
          51.225451,
          50.8457606,
          null,
          51.0673363,
          50.8712342,
          50.888135,
          51.1367746,
          50.8646606,
          null,
          51.22757795,
          51.20079715,
          51.16871535,
          null,
          null,
          51.0373891
         ],
         "legendgroup": "Flanders",
         "lon": [
          4.7342936,
          3.2279816,
          4.6564895,
          3.7011418,
          3.7236211099333816,
          3.734532611185544,
          4.6696499,
          5.559557035066163,
          3.2691787,
          3.7523628181191375,
          4.6999812,
          4.7149751,
          null,
          4.408669260007036,
          null,
          3.73274171433431,
          4.7164707,
          4.481749846168763,
          4.418765431382971,
          3.7069341,
          3.63084164052022,
          null,
          4.4081934,
          4.436022619133992,
          3.2629708,
          5.577254,
          3.280408883421058,
          4.407931871751631,
          3.7417701,
          3.732526284024327,
          4.4146741,
          null,
          4.671562473993301,
          3.7315548,
          4.7164707,
          5.49204563881773,
          4.867664135810617,
          4.4441521,
          3.122856226707337,
          4.4344696,
          4.4047926,
          null,
          3.7094212431623896,
          null,
          3.6949085,
          null,
          null,
          null,
          4.4009405,
          null,
          3.7009332,
          4.412454683622572,
          4.406989861521847,
          4.814378976194906,
          4.7062707,
          4.7193573,
          3.732526284024327,
          4.7149751,
          null,
          4.423555728680404,
          null,
          null,
          4.6794359,
          4.3942577,
          3.737901372467958,
          4.038499315569203,
          null,
          4.6736309,
          null,
          3.691720455620609,
          4.671562473993301,
          4.4067795,
          5.3449945,
          4.480612,
          3.6793763,
          4.3951687,
          4.415681,
          4.495288398339908,
          null,
          4.790494905791944,
          3.185140703277937,
          3.7098797,
          5.242376760055454,
          3.8201265,
          3.732526284024327,
          3.4025965005826206,
          4.04476039737148,
          null,
          4.731597899999999,
          3.735595,
          null,
          4.7192648,
          3.4389302169499043,
          4.3951687,
          4.3965284,
          4.508404925282303,
          4.3482408,
          3.741577112777328,
          3.681079,
          3.5530226,
          4.6998204,
          null,
          4.671562473993301,
          3.7377984,
          4.749710099999993,
          4.361657159314903,
          4.468479450307586,
          4.7178768,
          4.4335957,
          4.567947038154324,
          null,
          3.9862932,
          4.4009405,
          5.49204563881773,
          3.7093503,
          4.5566516,
          4.7306817,
          4.7013153,
          4.671562473993301,
          4.1969888,
          4.156511218442951,
          4.995440762005331,
          null,
          null,
          4.6736309,
          3.7009332,
          4.4009405,
          3.2537261,
          5.3416827,
          4.426009007599914,
          null,
          4.4317893752673045,
          3.8068771,
          null,
          4.671562473993301,
          4.5645825,
          4.353428741966434,
          3.8772908,
          3.73443139019004,
          4.4009405,
          4.4271972,
          null,
          3.73443139019004,
          3.7402738,
          4.338470451262161,
          4.4111768,
          3.304844905890869,
          3.7314691,
          4.376196299999997,
          null,
          3.7292065,
          null,
          null,
          3.711804238318087,
          5.010879180495962,
          4.7164707,
          4.4783452,
          5.2061335,
          5.6735385,
          4.4009405,
          5.3175164,
          4.712691,
          4.6736309,
          4.434068,
          4.6736309,
          3.9765933691279898,
          4.3677494,
          4.495288398339908,
          3.71007730446587,
          4.4108007,
          3.7331456,
          4.6696499,
          4.4009405,
          4.7059384,
          4.442714274577702,
          4.722736594571418,
          4.6306033,
          4.769928652761008,
          4.721843886742983,
          4.4056949,
          4.4509658,
          4.6982142,
          3.714258297058824,
          3.7121008,
          3.735595,
          4.380891777852635,
          5.396310321822036,
          3.7555819,
          4.7219111,
          3.747675355990833,
          4.7130468435168975,
          4.443552268040449,
          5.2061335,
          4.671562473993301,
          3.616071067391143,
          null,
          4.3577896,
          4.412915510947047,
          4.434068,
          null,
          3.7121008,
          4.353428741966434,
          3.739138033677687,
          null,
          3.6995682,
          4.494987749999998,
          3.628284944020199,
          4.4340091,
          4.393121381597057,
          3.7074658,
          null,
          null,
          3.7382738,
          4.442714274577702,
          3.710258900102934,
          4.4264739,
          null,
          3.7377984,
          5.3523884,
          4.040495148820426,
          null,
          3.7292222917768143,
          null,
          4.4009405,
          4.3577896,
          null,
          3.7270246,
          4.2746564,
          3.424738,
          4.4393993,
          4.6696499,
          null,
          4.408669260007036,
          4.440004555439583,
          4.433217615242937,
          null,
          null,
          3.7069341
         ],
         "marker": {
          "color": "#636efa",
          "opacity": 0.5
         },
         "mode": "markers",
         "name": "Flanders",
         "showlegend": true,
         "subplot": "mapbox",
         "type": "scattermapbox"
        },
        {
         "customdata": [
          [
           "Agilytic",
           "http://www.agilytic.be",
           "Rue F. Dubois 2, 1310 La Hulpe, Belgium"
          ],
          [
           "B12 Consulting",
           "https://www.b12-consulting.com/",
           "Boucle Odon Godart 2, 1348 Ottignies-Louvain-la-Neuve, Belgium"
          ],
          [
           "Brainstorm Consulting",
           "https://www.bstorm.be/",
           "Rue du Bosquet 7, 1348 Ottignies-Louvain-la-Neuve, Belgium"
          ],
          [
           "Chiveo",
           "http://www.chiveo.be/",
           "Rue St Exupéry 17, 4460 Grâce-Hollogne, Belgium"
          ],
          [
           "Comexis Partners",
           "https://comexis.net/",
           "Atealaan 34A, 2200 Herentals Belgium, Belgium"
          ],
          [
           "CooperLink",
           "http://www.cooperlink.io",
           "Rue du Bois Saint-Jean 15/1, 4102 Seraing, Belgium"
          ],
          [
           "Decis",
           "https://www.decis.be/fr/",
           "Avenue Georges Marchal 18, 1330 Rixensart, Belgium"
          ],
          [
           "Deeper Analytics",
           "http://deeperanalytics.be",
           "7 rue du Pré Saint-Germain, 5310 Eghezée, Belgium"
          ],
          [
           "DeltaTec",
           "https://www.deltatec.be/",
           "Rue Gilles Magnée 92/6, 4430 Ans, Belgium"
          ],
          [
           "Engiforce",
           "http://www.engiforce.com/",
           "All. Arthur Masson, 1400 Nivelles, Belgium"
          ],
          [
           "EuraNova",
           "http://euranova.eu",
           "Rue Emile Francqui 4, 1435 Mont-Saint-Guibert, Belgium"
          ],
          [
           "GMind analytics",
           "http://www.gmind.net",
           "Rue du Millénaire 2, 4840 Welkenraedt, Belgium"
          ],
          [
           "I-Pulses",
           "https://www.i-pulses.be/",
           "Esplanade de Cuyper Beniest 5, 4671 Blégny, Belgium"
          ],
          [
           "Ingestic",
           "https://www.ingestic.be/",
           "Rue du Manège 18b, 1301 Wavre, Belgium"
          ],
          [
           "Optimal Computing",
           "https://www.optimalcomputing.be/index.php?company=company",
           "Rue de la Vignette 36, 7034 Mons, Belgium"
          ],
          [
           "P4A",
           "https://performanceforassets.com/",
           "Rue des Gerboises 1, 5100 Namur, Belgium"
          ],
          [
           "Reimagine",
           "http://www.reimagine.be",
           "Witte Patersstraat 4, 1040 Etterbeek, Belgium"
          ],
          [
           "Seen apps",
           "http://www.seen-apps.com",
           "Rue Marcel de Brogniez 27/1, 4690 Bassenge, Belgium"
          ],
          [
           "Skalup",
           "http://www.skalup.com",
           "Av. Reine Astrid 16, 5000 Namur, Belgium"
          ],
          [
           "Sparkle",
           "https://www.sparkle.tech/",
           "Rue de la Terre du Prince 17, 7000 Mons, Belgium"
          ],
          [
           "TDSGN",
           "https://www.tdsgn.be/",
           "Ninoofsesteenweg 211, 1760 Roosdaal, Belgium"
          ],
          [
           "Thelis",
           "http://www.thelis.be",
           "Rue des Salamandres 2, 5100 Namur, Belgium"
          ],
          [
           "Underside",
           "http://www.underside.be",
           "Av. Georges Lemaître 5, 6041 Charleroi, Belgium"
          ],
          [
           "VERHAERT",
           "https://www.verhaert.com",
           "Hogenakkerhoekstraat 21, 9150 Kruibeke, Belgium"
          ],
          [
           "WEPOC",
           "https://wepoc.be/",
           "Rue du Traité de Rome 6, 1348 Ottignies-Louvain-la-Neuve, Belgium"
          ],
          [
           "XC Lab",
           "http://xclab.com/",
           "Quai Louva, 21, 4102 Seraing, Belgium, Belgium"
          ],
          [
           "Axinesis",
           "http://www.axinesis.com",
           "Av. Sabin 3, 1300 Wavre, Belgium"
          ],
          [
           "BT Clinical Computing",
           "http://www.btclinicalcomputing.com",
           "Avenue Paul Pastur 361 bte 6, 6032 Charleroi, Belgium"
          ],
          [
           "CluePoints",
           "http://cluepoints.com",
           "New Tech Center Av. Albert Einstein 2a, 1348 Ottignies-Louvain-la-Neuve, Belgium"
          ],
          [
           "Digital Orthopaedics",
           "http://www.digital-orthopaedics.com",
           "Rue Emile Francqui 1, 1435 Mont-Saint-Guibert, Belgium"
          ],
          [
           "DNAlytics",
           "http://dnalytics.com",
           "Centre Monnet Av. Jean Monnet, 1348 Ottignies-Louvain-la-Neuve, Belgium"
          ],
          [
           "Gabi Smartcare",
           "https://gabismartcare.com/",
           "Rue Emile Francqui 6 2nd Floor, 1435 Mont-Saint-Guibert, Belgium"
          ],
          [
           "HeartKinetics",
           "https://heartkinetics.com/fr/",
           "Drève Richelle 161/57/Building M, 1410 Waterloo, Belgium"
          ],
          [
           "IBA",
           "https://iba-worldwide.com/",
           "Chem. du Cyclotron 3, 1348 Ottignies-Louvain-la-Neuve, Belgium"
          ],
          [
           "OncoDNA",
           "http://www.oncoshare.com",
           "Rue Louis Breguet 1, 6041 Gosselies, Belgium"
          ],
          [
           "Oncoradiomics",
           "http://www.oncoradiomics.com",
           "Clos Chanmurly 13, 4000 Liège, Belgium"
          ],
          [
           "Phasya",
           "https://www.phasya.com/en",
           "Rue du Bois Saint-Jean 29, 4102 Seraing, Belgium"
          ],
          [
           "Simpl",
           "http://www.logiciel-crm.be/",
           "48 rue des Martyrs, 4800 Verviers, Belgium"
          ],
          [
           "Sunrise",
           "http://www.sunrise-sleep.com",
           "Chau. de Marche 598/02, 5101 Namur, Belgium"
          ],
          [
           "TELEMIS",
           "http://www.telemis.com",
           "Av. Athéna 2, 1348 Ottignies-Louvain-la-Neuve, Belgium"
          ],
          [
           "The Medical Cloud Company",
           "http://www.medicalcloudcompany.com",
           "Clos Chanmurly 13, 4000 Liège, Belgium"
          ],
          [
           "Ampacimon",
           "http://www.ampacimon.com/",
           "Rue de Wallonie 11, 4460 Grâce-Hollogne, Belgium"
          ],
          [
           "Blacklight Analytics",
           "https://www.blacklight-analytics.com/",
           "Rue du Bois Saint-Jean, 4102 Seraing, Belgium"
          ],
          [
           "Dapesco",
           "https://www.dapesco.com/fr/",
           "Rue Granbonpré 4, 1348 Ottignies-Louvain-la-Neuve, Belgium"
          ],
          [
           "Memoco",
           "https://memoco.eu/",
           "Rue de Rodeuhaie 6, 1348 Ottignies-Louvain-la-Neuve, Belgium"
          ],
          [
           "Opinum",
           "https://www.opinum.com/fr",
           "Rue Emile Francqui 9, 1435 Mont-Saint-Guibert, Belgium"
          ],
          [
           "Features Analytics",
           "http://www.features-analytics.com",
           "Rue de Charleroi 2, 1400 Nivelles, Belgium"
          ],
          [
           "Horus Software",
           "https://horussoftware.be/fr/",
           "Quai des Ardennes 9, 4020 Liège, Belgium"
          ],
          [
           "Ludebo",
           "https://www.sec-dpo.com/",
           "Willebroekkaai 38, 1000 Brussel, Belgium"
          ],
          [
           "ActiveMe",
           "http://activeme.be",
           "Rue Granbonpré 11 B, 1348 Louvain-La-Neuve, Belgium"
          ],
          [
           "Cytomine",
           "http://www.cytomine.be",
           "Quai Banning 6, 4000 Liège, Belgium"
          ],
          [
           "Hovertone",
           "https://www.hovertone.com/",
           "Rue des Soeurs Noires 4, 7000 Mons, Belgium"
          ],
          [
           "Look",
           "http://www.look-app.net",
           "Av. Reine Astrid 92, 1310 La Hulpe, Belgium"
          ],
          [
           "Musimap",
           "http://www.musimap.com",
           "Vrijwilligerslaan 19, 1160 Oudergem, Belgium"
          ],
          [
           "i-Care",
           "https://www.icareweb.com/fr-be/",
           "Rue René Descartes 18, 7000 Mons, Belgium"
          ],
          [
           "Metheore",
           "http://metheore.be/",
           "Rue du Bois Saint-Jean 15/1, 4102 Seraing, Belgium"
          ],
          [
           "MH Automation",
           "http://www.armin-robot.com",
           "Rue d'Houdeng 224, 7070 Le Rœulx, Belgium"
          ],
          [
           "PEPITe",
           "https://www.pepite.com/",
           "Forgeur 4/1, 4000 Liège, Belgium"
          ],
          [
           "SCM Revamp",
           "http://www.scmrevamp.com",
           "Clos St Feuillien 5, 7070 Le Rœulx, Belgium"
          ],
          [
           "Sitemark",
           "http:// https://www.smartnodes.be/",
           "Val Benoit Bât. Génie Civil Quai Banning 6, 4000 Liège, Belgium"
          ],
          [
           "ThePickPath",
           "http://thepickpath.com",
           "Place Arthur Maquet 2, 4263 Braives, Belgium"
          ],
          [
           "Amoobi",
           "https://www.amoobi.com/",
           "Rue de l'Industrie 20, 1400 Nivelles, Belgium"
          ],
          [
           "Depthen",
           "https://www.depthen.com/fr/",
           "Bd Dolez 31, 7000 Mons, Belgium"
          ],
          [
           "Mintt",
           "https://mintt.care/",
           "Louizalaan 251, 1050 Brussel, Belgium"
          ],
          [
           "Phoenix AI",
           "https://www.phoenix-ai.com/",
           "2, Rue du vent des noirs moineaux, 7600 Péruwelz, Belgium"
          ],
          [
           "Piximate",
           "http://www.piximate.net",
           "Av. Reine Astrid 92, 1310 La Hulpe, Belgium"
          ],
          [
           "VeriFlix",
           "http://www.veriflix.ai/en/",
           "Av. Reine Astrid 92, 1310 La Hulpe, Belgium"
          ],
          [
           "ViBE",
           "http://www.vibeinmotion.com",
           "Turnhoutsebaan 139a, 2140 Antwerpen, Belgium"
          ],
          [
           "Aerospacelab",
           "http://www.aerospacelab.be/",
           "Rue André Dumont 9, 1435 Mont-Saint-Guibert, Belgium"
          ],
          [
           "Oscars",
           "https://www.oscars-sa.eu/",
           "Place du Chapitre 16, 5300 Andenne, Belgium"
          ],
          [
           "FaqBot",
           "http://www.faqbot.co",
           "Chau. de Bruxelles 408, 1300 Wavre, Belgium"
          ],
          [
           "Acapela Group",
           "https://www.acapela-group.com/",
           "Bd Dolez 33, 7000 Mons, Belgium"
          ],
          [
           "Acic",
           "http://www.acic.eu/fr/",
           "Bd Initialis 28, 7000 Mons, Belgium"
          ],
          [
           "Mediabos",
           "https://www.mediabos.be/",
           "Lohirville 22A à, 4890 Thimister-Clermont, Belgium"
          ],
          [
           "Qualitics",
           "http://www.qualitics.eu",
           "Rue de Sclaigneau 657, 5300 Vezin, Belgium"
          ],
          [
           "Hirering",
           "http://www.hirering.eu",
           "Cours Saint Michel 30A, 1040 Etterbeek, Belgium"
          ],
          [
           "ASKOLI",
           "http://www.askoli.net",
           "Avenue Melina Mercouri 9, 7000 Mons, Belgium"
          ],
          [
           "eRowz",
           "http://www.site-annonce.be",
           "Rue Jean Burgers 2, 7850 Enghien, Belgium"
          ],
          [
           "Ittention",
           "https://www.ittention.com/",
           "Bd Dolez, 7000 Mons, Belgium"
          ],
          [
           "Koopol",
           "http://koopol.com",
           "Av. du Général Michel 1e, 6000 Charleroi, Belgium"
          ],
          [
           "LR Physics Consulting",
           "https://lrdatascience.com/",
           "Rue de Corthys 11, 4280 Hannut, Belgium"
          ],
          [
           "Memovie",
           "http://www.memovie.be",
           "Av. Einstein 11, 1300 Wavre, Belgium"
          ],
          [
           "MoodMe",
           "http://www.moodme.biz",
           "Rue des Vertes Haies 15, 1400 Nivelles, Belgium"
          ],
          [
           "Plunch",
           "http://www.plunch.net",
           "Rue de l'Etat-Tiers 5 Boîte 31, 4000 Liège, Belgium"
          ],
          [
           "SIRIUS Insight",
           "http://www.siriusinsight.be",
           "Av. Alexander Fleming 10, 1348 Ottignies-Louvain-la-Neuve, Belgium"
          ],
          [
           "Sortlist",
           "https://www.sortlist.com/",
           "Avenue Zénobe Gramme 29, 1300 Wavre, Belgium"
          ],
          [
           "Verbolia",
           "http://verbolia.com",
           "Rue Jean Burgers 2, 7850 Edingen, Belgium"
          ],
          [
           "Kensu",
           "http://www.kensu.io",
           "Avenue Pré Aily 24, 4031 Angleur, Belgium"
          ],
          [
           "Moonoia",
           "https://www.moonoia.com/",
           "Av. Georges Lemaître 58a, 6041 Charleroi, Belgium"
          ]
         ],
         "hovertemplate": "Name: %{customdata[0]}<br>Website: %{customdata[1]}<br>Address: %{customdata[2]}",
         "lat": [
          null,
          50.6612859,
          50.660695,
          50.63828555,
          null,
          50.5925498,
          50.7128977,
          50.57519485,
          50.6611674,
          50.6052621,
          50.657852250000005,
          50.65486275,
          50.6536899,
          50.7088347,
          50.4971711,
          50.4233109,
          50.8265808,
          50.7566485,
          50.46249725,
          50.4517339,
          50.83276305,
          50.4240804,
          50.4738624,
          51.195992,
          50.6704032,
          null,
          50.7394066,
          null,
          null,
          50.6568904,
          null,
          null,
          null,
          null,
          50.4736323,
          50.6200466,
          50.5949315,
          50.59131175,
          null,
          50.6757469,
          50.6200466,
          50.65044085,
          50.5919386,
          null,
          50.6602617,
          50.659001700000005,
          50.5966189,
          50.62180235,
          50.8641428,
          null,
          50.6142395,
          50.4500064,
          50.72704555,
          50.8269958,
          50.460201350000006,
          50.5925498,
          50.5019802,
          50.6344498,
          null,
          null,
          50.6389215,
          50.5863768,
          50.4516204,
          50.8247297,
          null,
          50.72704555,
          50.72704555,
          51.215311,
          50.65745355,
          50.48764595,
          null,
          50.4513832,
          50.45775745,
          50.6507977,
          null,
          50.8344368,
          50.4568687,
          50.6850632,
          50.4528003,
          null,
          50.696886,
          50.7314097,
          50.59784155,
          null,
          null,
          50.73355015,
          50.6850632,
          50.59670145,
          50.4738624
         ],
         "legendgroup": "Wallonia",
         "lon": [
          null,
          4.6205053,
          4.632663533340631,
          5.429088569453503,
          null,
          5.5584119,
          4.5291466,
          4.843233603962601,
          5.5278817,
          4.3187207,
          4.623045330619697,
          5.9542788,
          5.6770714,
          4.6026867,
          4.0117051,
          4.9246074,
          4.3998762,
          5.6023891,
          4.857092049999999,
          3.9483235,
          4.1016371200109685,
          4.9217795,
          4.4729343,
          4.3188704,
          4.6102931,
          null,
          4.6132607,
          null,
          null,
          4.6240317,
          null,
          null,
          null,
          null,
          4.471043319523942,
          5.5632114,
          5.562088883030253,
          5.86300942548478,
          null,
          4.6113451,
          5.5632114,
          5.482877377586311,
          5.5584437,
          null,
          4.6171626,
          4.623283782987746,
          4.3258775,
          5.584066239303017,
          4.3531249,
          null,
          5.575796008500163,
          3.9520656,
          4.472173925527622,
          4.4042457,
          3.9288402773811706,
          5.5584119,
          4.1107032,
          5.5696298,
          null,
          null,
          5.174650412618295,
          4.3552478,
          3.959478228395224,
          4.3659304,
          null,
          4.472173925527622,
          4.472173925527622,
          4.4344696,
          4.628050735565999,
          5.101178418603206,
          null,
          3.958696,
          3.926692428040476,
          5.8964357,
          null,
          4.4001066,
          3.941463373926622,
          4.0248584,
          3.9602154,
          null,
          5.129732656583071,
          4.5896461,
          4.347540870305863,
          null,
          null,
          4.579214305654999,
          4.0248584,
          5.564545002925248,
          4.4729343
         ],
         "marker": {
          "color": "#EF553B",
          "opacity": 0.5
         },
         "mode": "markers",
         "name": "Wallonia",
         "showlegend": true,
         "subplot": "mapbox",
         "type": "scattermapbox"
        },
        {
         "customdata": [
          [
           "BOBUP",
           "http://www.bobup.be",
           "Rue de Ransbeek 230, 1120 Bruxelles, Belgium"
          ],
          [
           "D-Sight",
           "http://www.d-sight.com/",
           "Witte Patersstraat 4, 1040 Etterbeek, Belgium"
          ],
          [
           "DART Consulting",
           "http://dartconsult.com/fr/",
           "13 rue du Congrès, 1000 Bruxelles, Belgium"
          ],
          [
           "Data Factory",
           "https://www.datafactory.be/",
           "Sinter-Goedeleplein 5, 1000 Brussel, Belgium"
          ],
          [
           "Dataa",
           "http://www.dataa.com",
           "Rue Dieudonné Lefèvre 17, 1020 Bruxelles, Belgium"
          ],
          [
           "Dfakto",
           "http://www.dfakto.com",
           "Louis Schmidtlaan 29, 1040 Etterbeek, Belgium"
          ],
          [
           "Fit-For-Purpose Tech.",
           "http://www.fitforpurpose.tech/",
           "Victor Oudartstraat 7, 1030 Schaarbeek, Belgium"
          ],
          [
           "Fourcast",
           "https://gcloud.devoteam.com/",
           "Gemeenschappenlaan 110, 1200 Brussels, Belgium"
          ],
          [
           "Freemind",
           "http://www.freemind-group.com",
           "Buro Design Center Esplanade 1, 1020 Laeken, Belgium"
          ],
          [
           "Kantify",
           "http://kantify.com",
           "Louizalaan 54, 1050 Brussel, Belgium"
          ],
          [
           "Lantana",
           "http://www.lantana.be",
           "Boulevard d'Anvers / Antwerpselaan 40​,1000 Brussels, Belgium"
          ],
          [
           "Odase",
           "http://www.odaseontologies.com",
           "Kazernestraat 45, 1000 Brussel, Belgium"
          ],
          [
           "Optimal Design",
           "https://optimaldesign.com/OD/company.html",
           "20 rue de l'Industrie B, 1400 Nivelles, Belgium"
          ],
          [
           "Proxyclick",
           "https://www.proxyclick.com/fr/?ads_cmpid=10183243095&ads_adid=100705580294&ads_matchtype=e&ads_network=g&ads_creative=438584373765&utm_term=proxyclick&ads_targetid=kwd-333521833842&utm_campaign=&utm_source=adwords&utm_medium=ppc&ttv=2&gclid=Cj0KCQiAoab_BRCxARIsANMx4S4eNWy3CB0MJQS_f507NsZWoBKEntVo3N3ow4gD_75rlWTZ5BN3a5QaAgU_EALw_wcB",
           "Sint-Huibrechtsstraat 17, 1150 Brussel, Belgium"
          ],
          [
           "Radix.ai",
           "http://www.radix.ai",
           "Kantersteen 10, 1000 Brussel, Belgium"
          ],
          [
           "Sagacify",
           "http://www.sagacify.com",
           "De Broquevillelaan 12, 1150 Brussels, Belgium"
          ],
          [
           "Tapptic",
           "http://www.tapptic.com",
           "Terkamerenlaan 28/30, 1000 Brussel, Belgium"
          ],
          [
           "6Wolves",
           "http://www.6wolves.ai",
           "Moerstraat 40, 8000 Brugge, Belgium"
          ],
          [
           "Axiles Bionics",
           "http://www.axilesbionics.com",
           "Raketstraat 64, 1130 Brussel, Belgium"
          ],
          [
           "EarlyTracks",
           "https://www.earlytracks.com/",
           "Sint-Pieterssteenweg 260, 1040 Bruxelles, Belgium"
          ],
          [
           "Enpy",
           "http://www.enpy.com",
           "Louizalaan 65/11, 1050 Elsene, Belgium"
          ],
          [
           "Innovation Sprint",
           "https://innovationsprint.eu/",
           "Clos Chapelle-aux-Champs 30 bte 1.30.30, 1200 Brussels, Belgium"
          ],
          [
           "Ovizio",
           "https://ovizio.com/",
           "Kersbeeklaan 306, 1180 Ukkel, Belgium"
          ],
          [
           "Saana",
           "https://saana.co/",
           "Rue du Commerce 31, 1000 Bruxelles, Belgium"
          ],
          [
           "Savics",
           "http://www.savics.org",
           "Gemeentelijk Godshuisstraat 6, 1170 Watermaal-Bosvoorde, Belgium"
          ],
          [
           "Spentys",
           "http:// https://www.spentys.com/",
           "Sint-Denijsstraat 120, 1190 Vorst, Belgium"
          ],
          [
           "Xperthis",
           "http://www.xperthis.be",
           "Boulevard Bischoffsheim 15, 1000 Bruxelles, Belgium"
          ],
          [
           "BUILDWIND",
           "http://www.buildwind.net",
           "Barastraat 175, 1070 Bruxelles, Belgium"
          ],
          [
           "WeSmart",
           "http://www.wesmart.com",
           "Dieudonné Lefèvrestraat 17, 1020 Brussel, Belgium"
          ],
          [
           "Aividens",
           "http://www.aividens.com",
           "Vrijwilligerslaan 19, 1160 Oudergem, Belgium"
          ],
          [
           "Booqee",
           "http://www.booqee.com",
           "Gentbrugge kouter 5, 9050 Gent, Belgium"
          ],
          [
           "Edebex",
           "http://edebex.com",
           "Jules Cockx Straat 8-10 box 2, 1160 Brussels, Belgium"
          ],
          [
           "EisphorIA",
           "http://www.eisphoria.com",
           "Rue Van Hammée 41, 1030 Brussels, Belgium"
          ],
          [
           "Keyrock",
           "http://keyrock.eu",
           "Louizalaan 251, 1000 Brussel, Belgium"
          ],
          [
           "Lawrenza",
           "https://lawrenza.com/",
           "Chau. de Lasne 5A, 1330 Rixensart, Belgium"
          ],
          [
           "Lex.be",
           "http://lex.be",
           "Witte Patersstraat 4, 1040 Etterbeek, Belgium"
          ],
          [
           "Vadis Tech.",
           "http://www.vadis.com",
           "Tervurenlaan 270, 1150 Brussel, Belgium"
          ],
          [
           "Yields",
           "http://yields.io",
           "Wolstraat 68, 1000 Brussel, Belgium"
          ],
          [
           "AI Blackbelt",
           "https://www.aiblackbelt.com/",
           "Kantersteen 10, 1000 Brussel, Belgium"
          ],
          [
           "Be Central",
           "http://becentral.org/",
           "Kantersteen 10/12, 1000 Brussel, Belgium"
          ],
          [
           "Dalberg Data Insights",
           "http://www.dalberg.com",
           "Avenue Louise 523, 1050 Ixelles, Belgium"
          ],
          [
           "La Scientotheque",
           "https://lascientotheque.be/",
           "Expérimentarium de Physique de l'ULB CP238 Triomflaan, 1050 Brussel, Belgium"
          ],
          [
           "Molengeek",
           "https://molengeek.com",
           "Pl. de la Minoterie 10, 1080 Molenbeek-Saint-Jean, Belgium"
          ],
          [
           "AMIA Systems",
           "http://www.amia-systems.com",
           "Greenbizz Dieudonné Lefèvrestraat 17, 1020 Brussel, Belgium"
          ],
          [
           "Factry",
           "http://www.factry.io",
           "Oktrooiplein 1, 9000 Gent, Belgium"
          ],
          [
           "urbantz",
           "http://www.urbantz.com",
           "Louizalaan 251, 1000 Brussel, Belgium"
          ],
          [
           "VoxelSensors",
           "https://www.voxelsensors.com/",
           "Rue Pierre Decoster 96 / 1, 1190 Forest, Belgium"
          ],
          [
           "Zensor",
           "http://www.zensor.be",
           "Witte Patersstraat 4, 1040 Etterbeek, Belgium"
          ],
          [
           "eXia",
           "https://www.exia.eu/site/",
           "Pleinlaan 2, 1050 Brussels, Belgium"
          ],
          [
           "Jeasy",
           "http://jeasy.ai",
           "De Broquevillelaan 12, 1150 Brussel, Belgium"
          ],
          [
           "railnova",
           "https://www.railnova.eu",
           "Emile Feronstraat 153, 1060 Brussel, Belgium"
          ],
          [
           "Sailsense",
           "http://www.sailsense.io",
           "Kantersteen 47, 1000 Brussel, Belgium"
          ],
          [
           "Elymentz",
           "http://www.elymentz.com",
           "De Meeûssquare 38/40, 1000 Brussel, Belgium"
          ],
          [
           "RetViews",
           "http://retviews.com",
           "Louizalaan 231, 1050 Brussel, Belgium"
          ],
          [
           "Riaktr",
           "http://www.riaktr.com",
           "Kapitein Crespelstraat 2/4, 1050 Elsene, Belgium"
          ],
          [
           "Treedy’s",
           "http://treedys.com/",
           "Avenue George Bergmann 117, 1050 Ixelles, Belgium"
          ],
          [
           "Kaspard",
           "http://kaspard.com",
           "Vorstlaan 36, 1170 Watermaal-Bosvoorde, Belgium"
          ],
          [
           "Sensifai",
           "http://www.sensifai.com",
           "Mechelsesteenweg 455, 1950 Kraainem, Belgium, Belgium"
          ],
          [
           "DeltaQ",
           "http://www.deltaq.io",
           "Antwerpselaan 40, 1000 Brussel, Belgium"
          ],
          [
           "Rockestate",
           "http://www.rockestate.be",
           "Witte Patersstraat 4, 1040 Etterbeek, Belgium"
          ],
          [
           "Uware Tech.",
           "http://uware.io",
           "de Perckestraat 127, 1180 Brussel, Belgium"
          ],
          [
           "BOTWISER",
           "http://botwiser.com",
           "Rue fossé aux Loups 11, 1000 Brussels, Belgium"
          ],
          [
           "Chatbot Plus",
           "http://chatbot-plus.com",
           "Leuvensesteenweg 775, 1140 Brussel, Belgium"
          ],
          [
           "Mentis",
           "https://thingks.io/",
           "Rue du congrès BP 5, 1000 Brussels , Belgium"
          ],
          [
           "Hozint",
           "https://www.hozint.com/",
           "Rue Henri Van Zuylen 36, 1180 Uccle, Belgium"
          ],
          [
           "Nviso",
           "http://www.nviso.be",
           "Guimardstraat 8, 1000 Brussel, Belgium"
          ],
          [
           "Jobgether",
           "https://jobgether.com/",
           "avenue du Prince de Ligne 91/3, 1180 Uccle, Belgium"
          ],
          [
           "ShiftMeApp",
           "http://www.restaurant.shiftmeapp.com",
           "Louizalaan 523, 1050 Brussel, Belgium"
          ],
          [
           "Apptweak",
           "http://www.apptweak.com",
           "Louizalaan 235, 1050 Brussel, Belgium"
          ],
          [
           "Customer-Care AI",
           "http://www.customer-care.ai/",
           "Zuiderpoort Gaston Crommenlaan 14/C1.1, 9000 Gent, Belgium"
          ],
          [
           "Instaon",
           "https://instaon.io/fr",
           "Rue de France 44, 7711 Mouscron, Belgium"
          ],
          [
           "Juyo Analytics",
           "http://juyoanalytics.com",
           "4 Rue Saint Lazare, 1210 Brussels, Belgium"
          ],
          [
           "Novable",
           "https://novable.com/",
           "Terhulpensesteenweg 150, 1170 Watermaal-Bosvoorde, Belgium"
          ],
          [
           "PRICING PACT",
           "https://www.pricingpact.com/",
           "Oude Vijversstraat 55, 1190 Vorst, Belgium"
          ],
          [
           "BrightKnight",
           "http://brightknight.eu",
           "Schildknaapsstraat 48, 1000 Brussel, Belgium"
          ],
          [
           "Doccle",
           "http://doccle.be",
           "Heizel Esplanade PB 65, 1020 Brussel, Belgium"
          ],
          [
           "Dual Lab",
           "https://www.duallab.com/",
           "Avenue des Villas 56/1, 1340 Ottignies-Louvain-la-Neuve, Belgium"
          ],
          [
           "Element 61",
           "https://www.element61.be/en",
           "Buro & Design Center - Esplanade 1, bus 96, 1020 Brussel, Belgium"
          ],
          [
           "JetPack",
           "http://jetpack.ai",
           "Av. Victor Jacobs 78, 1040 Etterbeek, Belgium"
          ],
          [
           "Python Predictions",
           "https://www.pythonpredictions.com/",
           "Roger Vandendriesschelaan 9, 1150 Brussel, Belgium"
          ],
          [
           "TIMI",
           "https://timi.eu",
           "Sint-Denijslaan 253, 9000 Gent, Belgium"
          ],
          [
           "Valkuren",
           "http://www.valkuren.com",
           "Kantersteen 10/12, 1000 Brussel, Belgium"
          ]
         ],
         "hovertemplate": "Name: %{customdata[0]}<br>Website: %{customdata[1]}<br>Address: %{customdata[2]}",
         "lat": [
          50.90005575,
          50.8265808,
          50.8496824,
          50.8474471,
          50.8705127,
          50.8269514,
          50.849257,
          50.8553994,
          50.89955685,
          50.8334605,
          50.8573847,
          50.8418357,
          null,
          50.8339524,
          50.8457606,
          50.8381879,
          50.8159739,
          51.2101623,
          50.8789019,
          50.83758555,
          null,
          null,
          50.7999269,
          50.8408804,
          null,
          50.8165218,
          50.8501762,
          50.8331413,
          50.8705127,
          50.8269958,
          null,
          null,
          50.8562348,
          50.8247469,
          null,
          50.8265808,
          50.8356029,
          50.8362158,
          50.8457606,
          50.8458988,
          50.8355735,
          null,
          50.8553546,
          null,
          51.0576921,
          50.8247469,
          50.8223916,
          50.8265808,
          50.8225751,
          50.8381879,
          50.8305985,
          50.8456387,
          50.8400861,
          50.8255764,
          50.8351918,
          50.80808705,
          50.8035151,
          null,
          50.8573847,
          50.8265808,
          50.77382515,
          null,
          50.8583125,
          50.8499833,
          50.79792605,
          50.8440655,
          50.794501,
          50.8152705,
          50.8254451,
          null,
          50.7268369,
          50.8558766,
          null,
          50.8181575,
          50.848812,
          null,
          50.672595,
          null,
          50.82996695,
          50.8347276,
          51.03587825,
          50.8458988
         ],
         "legendgroup": "Brussels",
         "lon": [
          4.39996650874752,
          4.3998762,
          4.3649673,
          4.3603269,
          4.3510053,
          4.3994798,
          4.392456,
          4.4274391,
          4.34277825645302,
          4.3581512,
          4.3501433,
          4.3414499,
          null,
          4.412733663414312,
          4.3577896,
          4.4099463,
          4.3751689,
          3.2197698963656807,
          4.4200739,
          4.393889469091224,
          null,
          null,
          4.3234271,
          4.3680657,
          null,
          4.3196074,
          4.3683072,
          4.3269748526218486,
          4.3510053,
          4.4042457,
          null,
          null,
          4.381163777437841,
          4.3659014,
          null,
          4.3998762,
          4.4207157,
          4.3531614,
          4.3577896,
          4.3583205,
          4.3556693,
          null,
          4.3411923,
          null,
          3.739486031891284,
          4.3659014,
          4.3294931,
          4.3998762,
          4.395532308975499,
          4.4099463,
          4.3349161,
          4.358229,
          4.3701336,
          4.3650613,
          4.3577332,
          4.388223208897633,
          4.42474803649572,
          null,
          4.3501433,
          4.3998762,
          4.361816147350231,
          null,
          4.4114646,
          4.3640572,
          4.338272212426789,
          4.3693582,
          4.3659206,
          4.3717768,
          4.3652034,
          null,
          3.3011242940136083,
          4.3597792,
          null,
          4.3190105,
          4.3556151,
          null,
          4.5666714,
          null,
          4.382071782133693,
          4.41408413375104,
          3.7034510032781967,
          4.3583205
         ],
         "marker": {
          "color": "#00cc96",
          "opacity": 0.5
         },
         "mode": "markers",
         "name": "Brussels",
         "showlegend": true,
         "subplot": "mapbox",
         "type": "scattermapbox"
        }
       ],
       "layout": {
        "height": 700,
        "legend": {
         "title": {
          "text": "Region"
         },
         "tracegroupgap": 0
        },
        "mapbox": {
         "center": {
          "lat": 51.225451,
          "lon": 4.4009405
         },
         "domain": {
          "x": [
           0,
           1
          ],
          "y": [
           0,
           1
          ]
         },
         "style": "open-street-map",
         "zoom": 11.5
        },
        "margin": {
         "b": 0,
         "l": 0,
         "r": 0
        },
        "template": {
         "data": {
          "bar": [
           {
            "error_x": {
             "color": "#2a3f5f"
            },
            "error_y": {
             "color": "#2a3f5f"
            },
            "marker": {
             "line": {
              "color": "#E5ECF6",
              "width": 0.5
             },
             "pattern": {
              "fillmode": "overlay",
              "size": 10,
              "solidity": 0.2
             }
            },
            "type": "bar"
           }
          ],
          "barpolar": [
           {
            "marker": {
             "line": {
              "color": "#E5ECF6",
              "width": 0.5
             },
             "pattern": {
              "fillmode": "overlay",
              "size": 10,
              "solidity": 0.2
             }
            },
            "type": "barpolar"
           }
          ],
          "carpet": [
           {
            "aaxis": {
             "endlinecolor": "#2a3f5f",
             "gridcolor": "white",
             "linecolor": "white",
             "minorgridcolor": "white",
             "startlinecolor": "#2a3f5f"
            },
            "baxis": {
             "endlinecolor": "#2a3f5f",
             "gridcolor": "white",
             "linecolor": "white",
             "minorgridcolor": "white",
             "startlinecolor": "#2a3f5f"
            },
            "type": "carpet"
           }
          ],
          "choropleth": [
           {
            "colorbar": {
             "outlinewidth": 0,
             "ticks": ""
            },
            "type": "choropleth"
           }
          ],
          "contour": [
           {
            "colorbar": {
             "outlinewidth": 0,
             "ticks": ""
            },
            "colorscale": [
             [
              0,
              "#0d0887"
             ],
             [
              0.1111111111111111,
              "#46039f"
             ],
             [
              0.2222222222222222,
              "#7201a8"
             ],
             [
              0.3333333333333333,
              "#9c179e"
             ],
             [
              0.4444444444444444,
              "#bd3786"
             ],
             [
              0.5555555555555556,
              "#d8576b"
             ],
             [
              0.6666666666666666,
              "#ed7953"
             ],
             [
              0.7777777777777778,
              "#fb9f3a"
             ],
             [
              0.8888888888888888,
              "#fdca26"
             ],
             [
              1,
              "#f0f921"
             ]
            ],
            "type": "contour"
           }
          ],
          "contourcarpet": [
           {
            "colorbar": {
             "outlinewidth": 0,
             "ticks": ""
            },
            "type": "contourcarpet"
           }
          ],
          "heatmap": [
           {
            "colorbar": {
             "outlinewidth": 0,
             "ticks": ""
            },
            "colorscale": [
             [
              0,
              "#0d0887"
             ],
             [
              0.1111111111111111,
              "#46039f"
             ],
             [
              0.2222222222222222,
              "#7201a8"
             ],
             [
              0.3333333333333333,
              "#9c179e"
             ],
             [
              0.4444444444444444,
              "#bd3786"
             ],
             [
              0.5555555555555556,
              "#d8576b"
             ],
             [
              0.6666666666666666,
              "#ed7953"
             ],
             [
              0.7777777777777778,
              "#fb9f3a"
             ],
             [
              0.8888888888888888,
              "#fdca26"
             ],
             [
              1,
              "#f0f921"
             ]
            ],
            "type": "heatmap"
           }
          ],
          "heatmapgl": [
           {
            "colorbar": {
             "outlinewidth": 0,
             "ticks": ""
            },
            "colorscale": [
             [
              0,
              "#0d0887"
             ],
             [
              0.1111111111111111,
              "#46039f"
             ],
             [
              0.2222222222222222,
              "#7201a8"
             ],
             [
              0.3333333333333333,
              "#9c179e"
             ],
             [
              0.4444444444444444,
              "#bd3786"
             ],
             [
              0.5555555555555556,
              "#d8576b"
             ],
             [
              0.6666666666666666,
              "#ed7953"
             ],
             [
              0.7777777777777778,
              "#fb9f3a"
             ],
             [
              0.8888888888888888,
              "#fdca26"
             ],
             [
              1,
              "#f0f921"
             ]
            ],
            "type": "heatmapgl"
           }
          ],
          "histogram": [
           {
            "marker": {
             "pattern": {
              "fillmode": "overlay",
              "size": 10,
              "solidity": 0.2
             }
            },
            "type": "histogram"
           }
          ],
          "histogram2d": [
           {
            "colorbar": {
             "outlinewidth": 0,
             "ticks": ""
            },
            "colorscale": [
             [
              0,
              "#0d0887"
             ],
             [
              0.1111111111111111,
              "#46039f"
             ],
             [
              0.2222222222222222,
              "#7201a8"
             ],
             [
              0.3333333333333333,
              "#9c179e"
             ],
             [
              0.4444444444444444,
              "#bd3786"
             ],
             [
              0.5555555555555556,
              "#d8576b"
             ],
             [
              0.6666666666666666,
              "#ed7953"
             ],
             [
              0.7777777777777778,
              "#fb9f3a"
             ],
             [
              0.8888888888888888,
              "#fdca26"
             ],
             [
              1,
              "#f0f921"
             ]
            ],
            "type": "histogram2d"
           }
          ],
          "histogram2dcontour": [
           {
            "colorbar": {
             "outlinewidth": 0,
             "ticks": ""
            },
            "colorscale": [
             [
              0,
              "#0d0887"
             ],
             [
              0.1111111111111111,
              "#46039f"
             ],
             [
              0.2222222222222222,
              "#7201a8"
             ],
             [
              0.3333333333333333,
              "#9c179e"
             ],
             [
              0.4444444444444444,
              "#bd3786"
             ],
             [
              0.5555555555555556,
              "#d8576b"
             ],
             [
              0.6666666666666666,
              "#ed7953"
             ],
             [
              0.7777777777777778,
              "#fb9f3a"
             ],
             [
              0.8888888888888888,
              "#fdca26"
             ],
             [
              1,
              "#f0f921"
             ]
            ],
            "type": "histogram2dcontour"
           }
          ],
          "mesh3d": [
           {
            "colorbar": {
             "outlinewidth": 0,
             "ticks": ""
            },
            "type": "mesh3d"
           }
          ],
          "parcoords": [
           {
            "line": {
             "colorbar": {
              "outlinewidth": 0,
              "ticks": ""
             }
            },
            "type": "parcoords"
           }
          ],
          "pie": [
           {
            "automargin": true,
            "type": "pie"
           }
          ],
          "scatter": [
           {
            "fillpattern": {
             "fillmode": "overlay",
             "size": 10,
             "solidity": 0.2
            },
            "type": "scatter"
           }
          ],
          "scatter3d": [
           {
            "line": {
             "colorbar": {
              "outlinewidth": 0,
              "ticks": ""
             }
            },
            "marker": {
             "colorbar": {
              "outlinewidth": 0,
              "ticks": ""
             }
            },
            "type": "scatter3d"
           }
          ],
          "scattercarpet": [
           {
            "marker": {
             "colorbar": {
              "outlinewidth": 0,
              "ticks": ""
             }
            },
            "type": "scattercarpet"
           }
          ],
          "scattergeo": [
           {
            "marker": {
             "colorbar": {
              "outlinewidth": 0,
              "ticks": ""
             }
            },
            "type": "scattergeo"
           }
          ],
          "scattergl": [
           {
            "marker": {
             "colorbar": {
              "outlinewidth": 0,
              "ticks": ""
             }
            },
            "type": "scattergl"
           }
          ],
          "scattermapbox": [
           {
            "marker": {
             "colorbar": {
              "outlinewidth": 0,
              "ticks": ""
             }
            },
            "type": "scattermapbox"
           }
          ],
          "scatterpolar": [
           {
            "marker": {
             "colorbar": {
              "outlinewidth": 0,
              "ticks": ""
             }
            },
            "type": "scatterpolar"
           }
          ],
          "scatterpolargl": [
           {
            "marker": {
             "colorbar": {
              "outlinewidth": 0,
              "ticks": ""
             }
            },
            "type": "scatterpolargl"
           }
          ],
          "scatterternary": [
           {
            "marker": {
             "colorbar": {
              "outlinewidth": 0,
              "ticks": ""
             }
            },
            "type": "scatterternary"
           }
          ],
          "surface": [
           {
            "colorbar": {
             "outlinewidth": 0,
             "ticks": ""
            },
            "colorscale": [
             [
              0,
              "#0d0887"
             ],
             [
              0.1111111111111111,
              "#46039f"
             ],
             [
              0.2222222222222222,
              "#7201a8"
             ],
             [
              0.3333333333333333,
              "#9c179e"
             ],
             [
              0.4444444444444444,
              "#bd3786"
             ],
             [
              0.5555555555555556,
              "#d8576b"
             ],
             [
              0.6666666666666666,
              "#ed7953"
             ],
             [
              0.7777777777777778,
              "#fb9f3a"
             ],
             [
              0.8888888888888888,
              "#fdca26"
             ],
             [
              1,
              "#f0f921"
             ]
            ],
            "type": "surface"
           }
          ],
          "table": [
           {
            "cells": {
             "fill": {
              "color": "#EBF0F8"
             },
             "line": {
              "color": "white"
             }
            },
            "header": {
             "fill": {
              "color": "#C8D4E3"
             },
             "line": {
              "color": "white"
             }
            },
            "type": "table"
           }
          ]
         },
         "layout": {
          "annotationdefaults": {
           "arrowcolor": "#2a3f5f",
           "arrowhead": 0,
           "arrowwidth": 1
          },
          "autotypenumbers": "strict",
          "coloraxis": {
           "colorbar": {
            "outlinewidth": 0,
            "ticks": ""
           }
          },
          "colorscale": {
           "diverging": [
            [
             0,
             "#8e0152"
            ],
            [
             0.1,
             "#c51b7d"
            ],
            [
             0.2,
             "#de77ae"
            ],
            [
             0.3,
             "#f1b6da"
            ],
            [
             0.4,
             "#fde0ef"
            ],
            [
             0.5,
             "#f7f7f7"
            ],
            [
             0.6,
             "#e6f5d0"
            ],
            [
             0.7,
             "#b8e186"
            ],
            [
             0.8,
             "#7fbc41"
            ],
            [
             0.9,
             "#4d9221"
            ],
            [
             1,
             "#276419"
            ]
           ],
           "sequential": [
            [
             0,
             "#0d0887"
            ],
            [
             0.1111111111111111,
             "#46039f"
            ],
            [
             0.2222222222222222,
             "#7201a8"
            ],
            [
             0.3333333333333333,
             "#9c179e"
            ],
            [
             0.4444444444444444,
             "#bd3786"
            ],
            [
             0.5555555555555556,
             "#d8576b"
            ],
            [
             0.6666666666666666,
             "#ed7953"
            ],
            [
             0.7777777777777778,
             "#fb9f3a"
            ],
            [
             0.8888888888888888,
             "#fdca26"
            ],
            [
             1,
             "#f0f921"
            ]
           ],
           "sequentialminus": [
            [
             0,
             "#0d0887"
            ],
            [
             0.1111111111111111,
             "#46039f"
            ],
            [
             0.2222222222222222,
             "#7201a8"
            ],
            [
             0.3333333333333333,
             "#9c179e"
            ],
            [
             0.4444444444444444,
             "#bd3786"
            ],
            [
             0.5555555555555556,
             "#d8576b"
            ],
            [
             0.6666666666666666,
             "#ed7953"
            ],
            [
             0.7777777777777778,
             "#fb9f3a"
            ],
            [
             0.8888888888888888,
             "#fdca26"
            ],
            [
             1,
             "#f0f921"
            ]
           ]
          },
          "colorway": [
           "#636efa",
           "#EF553B",
           "#00cc96",
           "#ab63fa",
           "#FFA15A",
           "#19d3f3",
           "#FF6692",
           "#B6E880",
           "#FF97FF",
           "#FECB52"
          ],
          "font": {
           "color": "#2a3f5f"
          },
          "geo": {
           "bgcolor": "white",
           "lakecolor": "white",
           "landcolor": "#E5ECF6",
           "showlakes": true,
           "showland": true,
           "subunitcolor": "white"
          },
          "hoverlabel": {
           "align": "left"
          },
          "hovermode": "closest",
          "mapbox": {
           "style": "light"
          },
          "paper_bgcolor": "white",
          "plot_bgcolor": "#E5ECF6",
          "polar": {
           "angularaxis": {
            "gridcolor": "white",
            "linecolor": "white",
            "ticks": ""
           },
           "bgcolor": "#E5ECF6",
           "radialaxis": {
            "gridcolor": "white",
            "linecolor": "white",
            "ticks": ""
           }
          },
          "scene": {
           "xaxis": {
            "backgroundcolor": "#E5ECF6",
            "gridcolor": "white",
            "gridwidth": 2,
            "linecolor": "white",
            "showbackground": true,
            "ticks": "",
            "zerolinecolor": "white"
           },
           "yaxis": {
            "backgroundcolor": "#E5ECF6",
            "gridcolor": "white",
            "gridwidth": 2,
            "linecolor": "white",
            "showbackground": true,
            "ticks": "",
            "zerolinecolor": "white"
           },
           "zaxis": {
            "backgroundcolor": "#E5ECF6",
            "gridcolor": "white",
            "gridwidth": 2,
            "linecolor": "white",
            "showbackground": true,
            "ticks": "",
            "zerolinecolor": "white"
           }
          },
          "shapedefaults": {
           "line": {
            "color": "#2a3f5f"
           }
          },
          "ternary": {
           "aaxis": {
            "gridcolor": "white",
            "linecolor": "white",
            "ticks": ""
           },
           "baxis": {
            "gridcolor": "white",
            "linecolor": "white",
            "ticks": ""
           },
           "bgcolor": "#E5ECF6",
           "caxis": {
            "gridcolor": "white",
            "linecolor": "white",
            "ticks": ""
           }
          },
          "title": {
           "x": 0.05
          },
          "xaxis": {
           "automargin": true,
           "gridcolor": "white",
           "linecolor": "white",
           "ticks": "",
           "title": {
            "standoff": 15
           },
           "zerolinecolor": "white",
           "zerolinewidth": 2
          },
          "yaxis": {
           "automargin": true,
           "gridcolor": "white",
           "linecolor": "white",
           "ticks": "",
           "title": {
            "standoff": 15
           },
           "zerolinecolor": "white",
           "zerolinewidth": 2
          }
         }
        },
        "title": {
         "text": "AI Landscape"
        }
       }
      }
     },
     "metadata": {},
     "output_type": "display_data"
    }
   ],
   "source": [
    "#Test interactive map function\n",
    "import pandas as pd\n",
    "from interactiveMap import get_location_interactive\n",
    "\n",
    "ai_df = pd.read_csv('../data/AILandscape_geocoded.csv')\n",
    "get_location_interactive(ai_df)\n"
   ]
  }
 ],
 "metadata": {
  "kernelspec": {
   "display_name": "Python 3.9.13 ('ai_landscape_env': venv)",
   "language": "python",
   "name": "python3"
  },
  "language_info": {
   "codemirror_mode": {
    "name": "ipython",
    "version": 3
   },
   "file_extension": ".py",
   "mimetype": "text/x-python",
   "name": "python",
   "nbconvert_exporter": "python",
   "pygments_lexer": "ipython3",
   "version": "3.9.13"
  },
  "vscode": {
   "interpreter": {
    "hash": "916f6c8c36066c9620592d410dac799d6bfe1283ef0f609fccc9e803d6b811b3"
   }
  }
 },
 "nbformat": 4,
 "nbformat_minor": 5
}
