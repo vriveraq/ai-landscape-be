{
 "cells": [
  {
   "cell_type": "markdown",
   "id": "13343387",
   "metadata": {},
   "source": [
    "# Belgian AI Landscape\n",
    "\n",
    "\n",
    "### 1. Import Modules"
   ]
  },
  {
   "cell_type": "code",
   "execution_count": 7,
   "id": "99ec2bb4",
   "metadata": {},
   "outputs": [],
   "source": [
    "import numpy as np\n",
    "import time\n",
    "from scrapeData import getData, createDriver, getAddress\n",
    "from concurrent.futures import ThreadPoolExecutor"
   ]
  },
  {
   "cell_type": "markdown",
   "id": "25472cdc",
   "metadata": {},
   "source": [
    "### 2. Scrape company information from AI4Belgium"
   ]
  },
  {
   "cell_type": "code",
   "execution_count": null,
   "id": "c6bc8eaa",
   "metadata": {},
   "outputs": [],
   "source": [
    "# Create a DataFrame from the AI4Belgium website and save as a DataFrame\n",
    "ai_df = getData('https://www.ai4belgium.be/ai-landscape/')"
   ]
  },
  {
   "cell_type": "markdown",
   "id": "70ed42b8",
   "metadata": {},
   "source": [
    "### 3. Search for the company name in Google search and Maps to obtain addresses\n",
    "\n",
    "    Note: Here we use threading to speed-up our code."
   ]
  },
  {
   "cell_type": "code",
   "execution_count": 10,
   "id": "e2560b38",
   "metadata": {},
   "outputs": [
    {
     "name": "stdout",
     "output_type": "stream",
     "text": [
      "38.36 seconds\n"
     ]
    }
   ],
   "source": [
    "start_time = time.process_time() \n",
    "\n",
    "#Build as many drivers as there are threads, so each thread gets own driver\n",
    "with ThreadPoolExecutor(max_workers=10) as executor:\n",
    "     result= [executor.submit(getAddress, name) for name in ai_df['Company Name']]\n",
    "\n",
    "print(round(time.process_time() - start_time,2), \"seconds\" ) \n",
    "\n",
    "# Save addresses in a list using list-comprehension\n",
    "addresses =  [item.result()[0] for item in result]\n",
    "\n",
    "# Add the addresses as a new column in the DataFrame\n",
    "ai_df['Address']  = addresses\n",
    "\n",
    "# Save DataFrame as a CSV file\n",
    "ai_df.to_csv('data/AILandscape_from_script.csv', index = False)"
   ]
  },
  {
   "cell_type": "markdown",
   "id": "fe5d302d",
   "metadata": {},
   "source": [
    "### 4. Check for Missing Values\n",
    "\n",
    "    Currently, our script scrappes 312 addresses out of 437 (i.e. 125 missing). "
   ]
  },
  {
   "cell_type": "code",
   "execution_count": 18,
   "id": "ac3becb0",
   "metadata": {},
   "outputs": [
    {
     "data": {
      "text/plain": [
       "125"
      ]
     },
     "execution_count": 18,
     "metadata": {},
     "output_type": "execute_result"
    }
   ],
   "source": [
    "(ai_df['Address']=='').sum()"
   ]
  },
  {
   "cell_type": "markdown",
   "id": "615552ee",
   "metadata": {},
   "source": [
    "### 5. Next Steps\n",
    "\n",
    "1. Automate filling in missing values. Idea: Check other websites for scraping.\n",
    "2. Visualize gathered data in a map.\n",
    "3. Create Streamlit App and deploy."
   ]
  }
 ],
 "metadata": {
  "kernelspec": {
   "display_name": "Python 3.9.13 ('ai_landscape_env': venv)",
   "language": "python",
   "name": "python3"
  },
  "language_info": {
   "codemirror_mode": {
    "name": "ipython",
    "version": 3
   },
   "file_extension": ".py",
   "mimetype": "text/x-python",
   "name": "python",
   "nbconvert_exporter": "python",
   "pygments_lexer": "ipython3",
   "version": "3.9.13"
  },
  "vscode": {
   "interpreter": {
    "hash": "916f6c8c36066c9620592d410dac799d6bfe1283ef0f609fccc9e803d6b811b3"
   }
  }
 },
 "nbformat": 4,
 "nbformat_minor": 5
}
