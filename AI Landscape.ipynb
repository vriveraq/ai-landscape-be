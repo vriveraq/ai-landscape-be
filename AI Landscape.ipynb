{
 "cells": [
  {
   "cell_type": "markdown",
   "id": "13343387",
   "metadata": {},
   "source": [
    "# Belgian AI Landscape\n",
    "\n",
    "## Part 1: Scraping and storing data\n",
    "\n",
    "### 1. Import Modules"
   ]
  },
  {
   "cell_type": "code",
   "execution_count": 1,
   "id": "99ec2bb4",
   "metadata": {},
   "outputs": [],
   "source": [
    "import numpy as np\n",
    "import pandas as pd\n",
    "import time\n",
    "from scrapeData import getData, createDriver, getAddress\n",
    "from concurrent.futures import ThreadPoolExecutor"
   ]
  },
  {
   "cell_type": "markdown",
   "id": "25472cdc",
   "metadata": {},
   "source": [
    "### 2. Scrape company information from AI4Belgium"
   ]
  },
  {
   "cell_type": "code",
   "execution_count": null,
   "id": "c6bc8eaa",
   "metadata": {},
   "outputs": [],
   "source": [
    "# Create a DataFrame from the AI4Belgium website and save as a DataFrame\n",
    "ai_df = getData('https://www.ai4belgium.be/ai-landscape/')"
   ]
  },
  {
   "cell_type": "markdown",
   "id": "70ed42b8",
   "metadata": {},
   "source": [
    "### 3. Search for the company name in Google search and Maps to obtain addresses\n",
    "\n",
    "    Note: Here we use threading to speed-up our code."
   ]
  },
  {
   "cell_type": "code",
   "execution_count": 10,
   "id": "e2560b38",
   "metadata": {},
   "outputs": [
    {
     "name": "stdout",
     "output_type": "stream",
     "text": [
      "38.36 seconds\n"
     ]
    }
   ],
   "source": [
    "start_time = time.process_time() \n",
    "\n",
    "#Build as many drivers as there are threads, so each thread gets own driver\n",
    "with ThreadPoolExecutor(max_workers=10) as executor:\n",
    "     result= [executor.submit(getAddress, name) for name in ai_df['Company Name']]\n",
    "\n",
    "print(round(time.process_time() - start_time,2), \"seconds\" ) \n",
    "\n",
    "# Save addresses in a list using list-comprehension\n",
    "addresses =  [item.result()[0] for item in result]\n",
    "\n",
    "# Add the addresses as a new column in the DataFrame\n",
    "ai_df['Address']  = addresses\n",
    "\n",
    "# Save DataFrame as a CSV file\n",
    "ai_df.to_csv('data/AILandscape_from_script.csv', index = False)"
   ]
  },
  {
   "cell_type": "markdown",
   "id": "fe5d302d",
   "metadata": {},
   "source": [
    "### 4. Check for Missing Values\n",
    "\n",
    "    Currently, our script scrappes 312 addresses out of 437 (i.e. 125 missing). "
   ]
  },
  {
   "cell_type": "code",
   "execution_count": 18,
   "id": "ac3becb0",
   "metadata": {},
   "outputs": [
    {
     "data": {
      "text/plain": [
       "125"
      ]
     },
     "execution_count": 18,
     "metadata": {},
     "output_type": "execute_result"
    }
   ],
   "source": [
    "(ai_df['Address']=='').sum()"
   ]
  },
  {
   "cell_type": "markdown",
   "id": "615552ee",
   "metadata": {},
   "source": [
    "### 5. Next Steps\n",
    "\n",
    "1. Automate filling in missing values. Idea: Check other websites for scraping.\n",
    "2. Visualize gathered data in a map.\n",
    "3. Create Streamlit App and deploy."
   ]
  },
  {
   "cell_type": "markdown",
   "id": "6a5e4e3d",
   "metadata": {},
   "source": [
    "To address the missing values, we opted to manually input the missing addresses while working on automating this process.\n",
    "\n",
    "To get our data ready for our app, we wanted to preprocess the addresses to also extract the zipcode and city as separate columns for further filtering.\n",
    "\n",
    "## Part II: Cleaning "
   ]
  },
  {
   "cell_type": "code",
   "execution_count": 5,
   "id": "a45f0fff",
   "metadata": {},
   "outputs": [
    {
     "data": {
      "text/html": [
       "<div>\n",
       "<style scoped>\n",
       "    .dataframe tbody tr th:only-of-type {\n",
       "        vertical-align: middle;\n",
       "    }\n",
       "\n",
       "    .dataframe tbody tr th {\n",
       "        vertical-align: top;\n",
       "    }\n",
       "\n",
       "    .dataframe thead th {\n",
       "        text-align: right;\n",
       "    }\n",
       "</style>\n",
       "<table border=\"1\" class=\"dataframe\">\n",
       "  <thead>\n",
       "    <tr style=\"text-align: right;\">\n",
       "      <th></th>\n",
       "      <th>Company Name</th>\n",
       "      <th>Link</th>\n",
       "      <th>Region</th>\n",
       "      <th>Address</th>\n",
       "    </tr>\n",
       "  </thead>\n",
       "  <tbody>\n",
       "    <tr>\n",
       "      <th>0</th>\n",
       "      <td>AE Projects</td>\n",
       "      <td>https://www.ae.be/en/</td>\n",
       "      <td>Flanders</td>\n",
       "      <td>Interleuvenlaan 27/B, 3001 Leuven</td>\n",
       "    </tr>\n",
       "    <tr>\n",
       "      <th>1</th>\n",
       "      <td>Agilytic</td>\n",
       "      <td>http://www.agilytic.be</td>\n",
       "      <td>Wallonia</td>\n",
       "      <td>Rue F. Dubois 2, 1310 La Hulpe</td>\n",
       "    </tr>\n",
       "    <tr>\n",
       "      <th>2</th>\n",
       "      <td>Aptus</td>\n",
       "      <td>https://www.aptus.be/#</td>\n",
       "      <td>Flanders</td>\n",
       "      <td>Meensesteenweg 449, 8501 Kortrijk</td>\n",
       "    </tr>\n",
       "    <tr>\n",
       "      <th>3</th>\n",
       "      <td>Arinti</td>\n",
       "      <td>https://arinti.ai/</td>\n",
       "      <td>Flanders</td>\n",
       "      <td>Duigemhofstraat 101, 3020 Herent</td>\n",
       "    </tr>\n",
       "    <tr>\n",
       "      <th>4</th>\n",
       "      <td>Around Media</td>\n",
       "      <td>https://www.around.media/</td>\n",
       "      <td>Flanders</td>\n",
       "      <td>Kortrijksesteenweg 1127/0002, 9051, 9000 Gent</td>\n",
       "    </tr>\n",
       "  </tbody>\n",
       "</table>\n",
       "</div>"
      ],
      "text/plain": [
       "   Company Name                       Link    Region  \\\n",
       "0   AE Projects      https://www.ae.be/en/  Flanders   \n",
       "1      Agilytic     http://www.agilytic.be  Wallonia   \n",
       "2         Aptus     https://www.aptus.be/#  Flanders   \n",
       "3        Arinti         https://arinti.ai/  Flanders   \n",
       "4  Around Media  https://www.around.media/  Flanders   \n",
       "\n",
       "                                         Address  \n",
       "0              Interleuvenlaan 27/B, 3001 Leuven  \n",
       "1                 Rue F. Dubois 2, 1310 La Hulpe  \n",
       "2              Meensesteenweg 449, 8501 Kortrijk  \n",
       "3               Duigemhofstraat 101, 3020 Herent  \n",
       "4  Kortrijksesteenweg 1127/0002, 9051, 9000 Gent  "
      ]
     },
     "execution_count": 5,
     "metadata": {},
     "output_type": "execute_result"
    }
   ],
   "source": [
    "ai_df_complete = pd.read_csv('data\\AI_Landscape_BE_completed.csv')\n",
    "ai_df_complete.head()"
   ]
  },
  {
   "cell_type": "markdown",
   "id": "383ca57f",
   "metadata": {},
   "source": [
    "We note that for most addresses the format is similar, we will use this to our advantage."
   ]
  },
  {
   "cell_type": "code",
   "execution_count": 6,
   "id": "ac3233eb",
   "metadata": {},
   "outputs": [],
   "source": [
    "ai_df_complete[['Street','Location']] = ai_df_complete['Address'].str.split(\",\", n=1, expand=True)\n",
    "\n",
    "# Remove leading and trailing whitespaces\n",
    "ai_df_complete['Street'] = ai_df_complete['Street'].apply(lambda x: str(x).strip())\n",
    "ai_df_complete['Location'] = ai_df_complete['Location'].apply(lambda x: str(x).strip())\n",
    "\n",
    "ai_df_complete[['ZipCode','City']] = ai_df_complete['Location'].str.split(\" \", n=1, expand=True)"
   ]
  },
  {
   "cell_type": "markdown",
   "id": "530197cc",
   "metadata": {},
   "source": [
    "We drop the missing values since these companies do not have an active website and their information is outdated. This is about 9 companies in total."
   ]
  },
  {
   "cell_type": "code",
   "execution_count": 13,
   "id": "e7e50f2c",
   "metadata": {},
   "outputs": [],
   "source": [
    "ai_df_complete.dropna(inplace=True)"
   ]
  },
  {
   "cell_type": "code",
   "execution_count": 23,
   "id": "72cd0e36",
   "metadata": {},
   "outputs": [],
   "source": [
    "# We add the country to the address in preparation for our visualization\n",
    "ai_df_complete['Address'] = ai_df_complete['Address'].apply(lambda x: x + ', Belgium')"
   ]
  },
  {
   "cell_type": "markdown",
   "id": "de2759b9",
   "metadata": {},
   "source": [
    "Finally, we saved our new DataFrame as a csv file."
   ]
  },
  {
   "cell_type": "code",
   "execution_count": 24,
   "id": "52d3d6bd",
   "metadata": {},
   "outputs": [],
   "source": [
    "ai_df_complete.to_csv('data/AILandscape_cleaned.csv', index = False)"
   ]
  },
  {
   "cell_type": "markdown",
   "id": "6eff58a6",
   "metadata": {},
   "source": [
    "## Part III: Visualizing Data in a Map."
   ]
  },
  {
   "cell_type": "code",
   "execution_count": 38,
   "id": "93f6edad",
   "metadata": {},
   "outputs": [
    {
     "name": "stdout",
     "output_type": "stream",
     "text": [
      "Missing Coordinates: 80\n"
     ]
    }
   ],
   "source": [
    "import geopy\n",
    "# OpenStreetMap API\n",
    "from geopy.geocoders import Nominatim\n",
    "geolocator = Nominatim(user_agent=\"http\")\n",
    "\n",
    "\n",
    "ai_df_complete['gcode'] = ai_df_complete['Address'].apply(geolocator.geocode)\n",
    "print('Missing Coordinates: ' + str(ai_df_complete['gcode'].isna().sum()))"
   ]
  },
  {
   "cell_type": "code",
   "execution_count": 39,
   "id": "ee45936a",
   "metadata": {},
   "outputs": [],
   "source": [
    "# Drop Missing Values\n",
    "ai_df_complete['gcode'].dropna(inplace = True)"
   ]
  },
  {
   "cell_type": "code",
   "execution_count": 46,
   "id": "44878ec2",
   "metadata": {},
   "outputs": [],
   "source": [
    "ai_df_complete['Latitude'] = [g.latitude if g is not None else np.nan for g in ai_df_complete.gcode ]\n",
    "ai_df_complete['Longitude'] = [g.longitude if g is not None else np.nan for g in ai_df_complete.gcode]"
   ]
  },
  {
   "cell_type": "code",
   "execution_count": 47,
   "id": "1de7c22e",
   "metadata": {},
   "outputs": [],
   "source": [
    "ai_df_complete.to_csv('data/AILandscape_geocoded.csv', index = False)"
   ]
  }
 ],
 "metadata": {
  "kernelspec": {
   "display_name": "Python 3.9.13 ('ai_landscape_env': venv)",
   "language": "python",
   "name": "python3"
  },
  "language_info": {
   "codemirror_mode": {
    "name": "ipython",
    "version": 3
   },
   "file_extension": ".py",
   "mimetype": "text/x-python",
   "name": "python",
   "nbconvert_exporter": "python",
   "pygments_lexer": "ipython3",
   "version": "3.9.13"
  },
  "vscode": {
   "interpreter": {
    "hash": "916f6c8c36066c9620592d410dac799d6bfe1283ef0f609fccc9e803d6b811b3"
   }
  }
 },
 "nbformat": 4,
 "nbformat_minor": 5
}
