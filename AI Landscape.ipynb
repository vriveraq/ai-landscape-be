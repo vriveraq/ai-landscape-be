{
 "cells": [
  {
   "cell_type": "code",
   "execution_count": 8,
   "id": "99ec2bb4",
   "metadata": {},
   "outputs": [
    {
     "name": "stderr",
     "output_type": "stream",
     "text": [
      "c:\\Users\\vrive\\Documents\\GitHub\\vriveraq\\ai-landscape-be\\scrapeData.py:16: GuessedAtParserWarning: No parser was explicitly specified, so I'm using the best available HTML parser for this system (\"html.parser\"). This usually isn't a problem, but if you run this code on another system, or in a different virtual environment, it may use a different parser and behave differently.\n",
      "\n",
      "The code that caused this warning is on line 16 of the file c:\\Users\\vrive\\Documents\\GitHub\\vriveraq\\ai-landscape-be\\scrapeData.py. To get rid of this warning, pass the additional argument 'features=\"html.parser\"' to the BeautifulSoup constructor.\n",
      "\n",
      "  soup = BeautifulSoup(html_page)\n"
     ]
    }
   ],
   "source": [
    "import numpy as np\n",
    "from scrapeData import getData, createDriver, getAddress\n",
    "from concurrent.futures import ThreadPoolExecutor\n",
    "\n",
    "# Create a DataFrame from the AI4Belgium website\n",
    "ai_df = getData('https://www.ai4belgium.be/ai-landscape/')"
   ]
  },
  {
   "cell_type": "code",
   "execution_count": null,
   "id": "e2560b38",
   "metadata": {},
   "outputs": [],
   "source": [
    "#Build as many drivers as there are threads, so each thread gets own driver\n",
    "drivers = [createDriver() for _ in range(4)]\n",
    "\n",
    "# Split data into chunks \n",
    "chunks = np.array_split(np.arange(1,len(ai_df)), 4)\n",
    "\n",
    "with ThreadPoolExecutor(max_workers=4) as executor:\n",
    "    bucket = executor.map(crawler, chunks, drivers)\n",
    "    results = [item for block in bucket for item in block]\n",
    "    \n",
    "[driver.quit() for driver in drivers]"
   ]
  },
  {
   "cell_type": "code",
   "execution_count": 8,
   "id": "acda1dcf",
   "metadata": {},
   "outputs": [],
   "source": [
    "ai_df['Address'] = addresses\n",
    "ai_df.to_csv('data/AILandscape_From Name.csv', index=False)"
   ]
  }
 ],
 "metadata": {
  "kernelspec": {
   "display_name": "Python 3.9.13 ('ai_landscape_env': venv)",
   "language": "python",
   "name": "python3"
  },
  "language_info": {
   "codemirror_mode": {
    "name": "ipython",
    "version": 3
   },
   "file_extension": ".py",
   "mimetype": "text/x-python",
   "name": "python",
   "nbconvert_exporter": "python",
   "pygments_lexer": "ipython3",
   "version": "3.9.13"
  },
  "vscode": {
   "interpreter": {
    "hash": "916f6c8c36066c9620592d410dac799d6bfe1283ef0f609fccc9e803d6b811b3"
   }
  }
 },
 "nbformat": 4,
 "nbformat_minor": 5
}
